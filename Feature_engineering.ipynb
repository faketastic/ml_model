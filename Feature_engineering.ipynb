{
 "cells": [
  {
   "cell_type": "code",
   "execution_count": 101,
   "metadata": {},
   "outputs": [],
   "source": [
    "import pandas as pd\n",
    "import numpy as np\n",
    "from sklearn.model_selection import train_test_split\n",
    "from sklearn.linear_model import LogisticRegression\n",
    "from sklearn.feature_extraction.text import CountVectorizer\n",
    "import warnings\n",
    "warnings.filterwarnings('ignore')\n",
    "from sklearn.metrics import confusion_matrix"
   ]
  },
  {
   "cell_type": "code",
   "execution_count": 2,
   "metadata": {},
   "outputs": [],
   "source": [
    "data = pd.read_csv('charliehebdo_tweets.csv')"
   ]
  },
  {
   "cell_type": "code",
   "execution_count": 3,
   "metadata": {},
   "outputs": [
    {
     "data": {
      "text/plain": [
       "(38268, 13)"
      ]
     },
     "execution_count": 3,
     "metadata": {},
     "output_type": "execute_result"
    }
   ],
   "source": [
    "data.shape"
   ]
  },
  {
   "cell_type": "code",
   "execution_count": 4,
   "metadata": {},
   "outputs": [
    {
     "data": {
      "text/html": [
       "<div>\n",
       "<style scoped>\n",
       "    .dataframe tbody tr th:only-of-type {\n",
       "        vertical-align: middle;\n",
       "    }\n",
       "\n",
       "    .dataframe tbody tr th {\n",
       "        vertical-align: top;\n",
       "    }\n",
       "\n",
       "    .dataframe thead th {\n",
       "        text-align: right;\n",
       "    }\n",
       "</style>\n",
       "<table border=\"1\" class=\"dataframe\">\n",
       "  <thead>\n",
       "    <tr style=\"text-align: right;\">\n",
       "      <th></th>\n",
       "      <th>tweet_id</th>\n",
       "      <th>tweet_hashtag</th>\n",
       "      <th>tweet_text</th>\n",
       "      <th>retweet</th>\n",
       "      <th>retweet_source_id</th>\n",
       "      <th>retweet_count</th>\n",
       "      <th>is_fake</th>\n",
       "      <th>user_verified</th>\n",
       "      <th>user_followers_count</th>\n",
       "      <th>user_statuses_count</th>\n",
       "      <th>user_friends_count</th>\n",
       "      <th>user_favourites_count</th>\n",
       "      <th>tweet_relative_age</th>\n",
       "    </tr>\n",
       "  </thead>\n",
       "  <tbody>\n",
       "    <tr>\n",
       "      <th>0</th>\n",
       "      <td>552821987006230528</td>\n",
       "      <td>charliehebdo</td>\n",
       "      <td>@BBCWorld #noussommestousdesCharlieHebdo</td>\n",
       "      <td>False</td>\n",
       "      <td>552821287933202435</td>\n",
       "      <td>1</td>\n",
       "      <td>True</td>\n",
       "      <td>False</td>\n",
       "      <td>43</td>\n",
       "      <td>1919</td>\n",
       "      <td>74</td>\n",
       "      <td>1</td>\n",
       "      <td>4</td>\n",
       "    </tr>\n",
       "    <tr>\n",
       "      <th>1</th>\n",
       "      <td>553519787943690242</td>\n",
       "      <td>charliehebdo</td>\n",
       "      <td>RT @AP: French terror suspects want to be mart...</td>\n",
       "      <td>False</td>\n",
       "      <td>553518472798683136</td>\n",
       "      <td>0</td>\n",
       "      <td>True</td>\n",
       "      <td>False</td>\n",
       "      <td>1400</td>\n",
       "      <td>4712</td>\n",
       "      <td>1574</td>\n",
       "      <td>302</td>\n",
       "      <td>8</td>\n",
       "    </tr>\n",
       "    <tr>\n",
       "      <th>2</th>\n",
       "      <td>552837042624020482</td>\n",
       "      <td>charliehebdo</td>\n",
       "      <td>@beckyt141 anyway he got it bang on again! He'...</td>\n",
       "      <td>False</td>\n",
       "      <td>552835987366486016</td>\n",
       "      <td>0</td>\n",
       "      <td>True</td>\n",
       "      <td>False</td>\n",
       "      <td>124</td>\n",
       "      <td>1725</td>\n",
       "      <td>262</td>\n",
       "      <td>129</td>\n",
       "      <td>10</td>\n",
       "    </tr>\n",
       "    <tr>\n",
       "      <th>3</th>\n",
       "      <td>552822076160360448</td>\n",
       "      <td>charliehebdo</td>\n",
       "      <td>@Telegraph That should be basic military skill...</td>\n",
       "      <td>False</td>\n",
       "      <td>552820736490889216</td>\n",
       "      <td>0</td>\n",
       "      <td>True</td>\n",
       "      <td>False</td>\n",
       "      <td>951</td>\n",
       "      <td>26050</td>\n",
       "      <td>1957</td>\n",
       "      <td>4559</td>\n",
       "      <td>9</td>\n",
       "    </tr>\n",
       "    <tr>\n",
       "      <th>4</th>\n",
       "      <td>552840282094727168</td>\n",
       "      <td>charliehebdo</td>\n",
       "      <td>@keller_lind @HuffPostUK @CEMB_forum Assassina...</td>\n",
       "      <td>False</td>\n",
       "      <td>552824008379736064</td>\n",
       "      <td>0</td>\n",
       "      <td>True</td>\n",
       "      <td>False</td>\n",
       "      <td>5097</td>\n",
       "      <td>89237</td>\n",
       "      <td>3472</td>\n",
       "      <td>17139</td>\n",
       "      <td>8</td>\n",
       "    </tr>\n",
       "  </tbody>\n",
       "</table>\n",
       "</div>"
      ],
      "text/plain": [
       "             tweet_id tweet_hashtag  \\\n",
       "0  552821987006230528  charliehebdo   \n",
       "1  553519787943690242  charliehebdo   \n",
       "2  552837042624020482  charliehebdo   \n",
       "3  552822076160360448  charliehebdo   \n",
       "4  552840282094727168  charliehebdo   \n",
       "\n",
       "                                          tweet_text  retweet  \\\n",
       "0           @BBCWorld #noussommestousdesCharlieHebdo    False   \n",
       "1  RT @AP: French terror suspects want to be mart...    False   \n",
       "2  @beckyt141 anyway he got it bang on again! He'...    False   \n",
       "3  @Telegraph That should be basic military skill...    False   \n",
       "4  @keller_lind @HuffPostUK @CEMB_forum Assassina...    False   \n",
       "\n",
       "    retweet_source_id  retweet_count  is_fake  user_verified  \\\n",
       "0  552821287933202435              1     True          False   \n",
       "1  553518472798683136              0     True          False   \n",
       "2  552835987366486016              0     True          False   \n",
       "3  552820736490889216              0     True          False   \n",
       "4  552824008379736064              0     True          False   \n",
       "\n",
       "   user_followers_count  user_statuses_count  user_friends_count  \\\n",
       "0                    43                 1919                  74   \n",
       "1                  1400                 4712                1574   \n",
       "2                   124                 1725                 262   \n",
       "3                   951                26050                1957   \n",
       "4                  5097                89237                3472   \n",
       "\n",
       "   user_favourites_count  tweet_relative_age  \n",
       "0                      1                   4  \n",
       "1                    302                   8  \n",
       "2                    129                  10  \n",
       "3                   4559                   9  \n",
       "4                  17139                   8  "
      ]
     },
     "execution_count": 4,
     "metadata": {},
     "output_type": "execute_result"
    }
   ],
   "source": [
    "data.head()"
   ]
  },
  {
   "cell_type": "code",
   "execution_count": 34,
   "metadata": {},
   "outputs": [],
   "source": [
    "X = data.loc[:,['tweet_text','user_verified','user_followers_count','user_statuses_count','user_friends_count','user_favourites_count','tweet_relative_age']]\n",
    "y = data[['is_fake']]\n"
   ]
  },
  {
   "cell_type": "code",
   "execution_count": 35,
   "metadata": {},
   "outputs": [
    {
     "data": {
      "text/html": [
       "<div>\n",
       "<style scoped>\n",
       "    .dataframe tbody tr th:only-of-type {\n",
       "        vertical-align: middle;\n",
       "    }\n",
       "\n",
       "    .dataframe tbody tr th {\n",
       "        vertical-align: top;\n",
       "    }\n",
       "\n",
       "    .dataframe thead th {\n",
       "        text-align: right;\n",
       "    }\n",
       "</style>\n",
       "<table border=\"1\" class=\"dataframe\">\n",
       "  <thead>\n",
       "    <tr style=\"text-align: right;\">\n",
       "      <th></th>\n",
       "      <th>tweet_text</th>\n",
       "      <th>user_verified</th>\n",
       "      <th>user_followers_count</th>\n",
       "      <th>user_statuses_count</th>\n",
       "      <th>user_friends_count</th>\n",
       "      <th>user_favourites_count</th>\n",
       "      <th>tweet_relative_age</th>\n",
       "    </tr>\n",
       "  </thead>\n",
       "  <tbody>\n",
       "    <tr>\n",
       "      <th>0</th>\n",
       "      <td>@BBCWorld #noussommestousdesCharlieHebdo</td>\n",
       "      <td>False</td>\n",
       "      <td>43</td>\n",
       "      <td>1919</td>\n",
       "      <td>74</td>\n",
       "      <td>1</td>\n",
       "      <td>4</td>\n",
       "    </tr>\n",
       "    <tr>\n",
       "      <th>1</th>\n",
       "      <td>RT @AP: French terror suspects want to be mart...</td>\n",
       "      <td>False</td>\n",
       "      <td>1400</td>\n",
       "      <td>4712</td>\n",
       "      <td>1574</td>\n",
       "      <td>302</td>\n",
       "      <td>8</td>\n",
       "    </tr>\n",
       "    <tr>\n",
       "      <th>2</th>\n",
       "      <td>@beckyt141 anyway he got it bang on again! He'...</td>\n",
       "      <td>False</td>\n",
       "      <td>124</td>\n",
       "      <td>1725</td>\n",
       "      <td>262</td>\n",
       "      <td>129</td>\n",
       "      <td>10</td>\n",
       "    </tr>\n",
       "    <tr>\n",
       "      <th>3</th>\n",
       "      <td>@Telegraph That should be basic military skill...</td>\n",
       "      <td>False</td>\n",
       "      <td>951</td>\n",
       "      <td>26050</td>\n",
       "      <td>1957</td>\n",
       "      <td>4559</td>\n",
       "      <td>9</td>\n",
       "    </tr>\n",
       "    <tr>\n",
       "      <th>4</th>\n",
       "      <td>@keller_lind @HuffPostUK @CEMB_forum Assassina...</td>\n",
       "      <td>False</td>\n",
       "      <td>5097</td>\n",
       "      <td>89237</td>\n",
       "      <td>3472</td>\n",
       "      <td>17139</td>\n",
       "      <td>8</td>\n",
       "    </tr>\n",
       "  </tbody>\n",
       "</table>\n",
       "</div>"
      ],
      "text/plain": [
       "                                          tweet_text  user_verified  \\\n",
       "0           @BBCWorld #noussommestousdesCharlieHebdo          False   \n",
       "1  RT @AP: French terror suspects want to be mart...          False   \n",
       "2  @beckyt141 anyway he got it bang on again! He'...          False   \n",
       "3  @Telegraph That should be basic military skill...          False   \n",
       "4  @keller_lind @HuffPostUK @CEMB_forum Assassina...          False   \n",
       "\n",
       "   user_followers_count  user_statuses_count  user_friends_count  \\\n",
       "0                    43                 1919                  74   \n",
       "1                  1400                 4712                1574   \n",
       "2                   124                 1725                 262   \n",
       "3                   951                26050                1957   \n",
       "4                  5097                89237                3472   \n",
       "\n",
       "   user_favourites_count  tweet_relative_age  \n",
       "0                      1                   4  \n",
       "1                    302                   8  \n",
       "2                    129                  10  \n",
       "3                   4559                   9  \n",
       "4                  17139                   8  "
      ]
     },
     "execution_count": 35,
     "metadata": {},
     "output_type": "execute_result"
    }
   ],
   "source": [
    "X.head()"
   ]
  },
  {
   "cell_type": "code",
   "execution_count": 36,
   "metadata": {
    "scrolled": true
   },
   "outputs": [
    {
     "data": {
      "text/html": [
       "<div>\n",
       "<style scoped>\n",
       "    .dataframe tbody tr th:only-of-type {\n",
       "        vertical-align: middle;\n",
       "    }\n",
       "\n",
       "    .dataframe tbody tr th {\n",
       "        vertical-align: top;\n",
       "    }\n",
       "\n",
       "    .dataframe thead th {\n",
       "        text-align: right;\n",
       "    }\n",
       "</style>\n",
       "<table border=\"1\" class=\"dataframe\">\n",
       "  <thead>\n",
       "    <tr style=\"text-align: right;\">\n",
       "      <th></th>\n",
       "      <th>is_fake</th>\n",
       "    </tr>\n",
       "  </thead>\n",
       "  <tbody>\n",
       "    <tr>\n",
       "      <th>0</th>\n",
       "      <td>True</td>\n",
       "    </tr>\n",
       "    <tr>\n",
       "      <th>1</th>\n",
       "      <td>True</td>\n",
       "    </tr>\n",
       "    <tr>\n",
       "      <th>2</th>\n",
       "      <td>True</td>\n",
       "    </tr>\n",
       "    <tr>\n",
       "      <th>3</th>\n",
       "      <td>True</td>\n",
       "    </tr>\n",
       "    <tr>\n",
       "      <th>4</th>\n",
       "      <td>True</td>\n",
       "    </tr>\n",
       "  </tbody>\n",
       "</table>\n",
       "</div>"
      ],
      "text/plain": [
       "   is_fake\n",
       "0     True\n",
       "1     True\n",
       "2     True\n",
       "3     True\n",
       "4     True"
      ]
     },
     "execution_count": 36,
     "metadata": {},
     "output_type": "execute_result"
    }
   ],
   "source": [
    "y.head()\n"
   ]
  },
  {
   "cell_type": "markdown",
   "metadata": {},
   "source": [
    "# 1) Logistic Regression"
   ]
  },
  {
   "cell_type": "markdown",
   "metadata": {},
   "source": [
    "###  model with all other features except tweet text"
   ]
  },
  {
   "cell_type": "code",
   "execution_count": 33,
   "metadata": {},
   "outputs": [],
   "source": [
    "X_train, X_test, y_train, y_test = train_test_split(X, y, test_size=0.33, random_state=42)"
   ]
  },
  {
   "cell_type": "code",
   "execution_count": 41,
   "metadata": {},
   "outputs": [],
   "source": [
    "#  remove the tweet text coloumn\n",
    "X_train_new = X_train.iloc[:,1:]\n",
    "X_test_new =  X_test.iloc[:,1:]"
   ]
  },
  {
   "cell_type": "code",
   "execution_count": 39,
   "metadata": {},
   "outputs": [
    {
     "data": {
      "text/html": [
       "<div>\n",
       "<style scoped>\n",
       "    .dataframe tbody tr th:only-of-type {\n",
       "        vertical-align: middle;\n",
       "    }\n",
       "\n",
       "    .dataframe tbody tr th {\n",
       "        vertical-align: top;\n",
       "    }\n",
       "\n",
       "    .dataframe thead th {\n",
       "        text-align: right;\n",
       "    }\n",
       "</style>\n",
       "<table border=\"1\" class=\"dataframe\">\n",
       "  <thead>\n",
       "    <tr style=\"text-align: right;\">\n",
       "      <th></th>\n",
       "      <th>user_verified</th>\n",
       "      <th>user_followers_count</th>\n",
       "      <th>user_statuses_count</th>\n",
       "      <th>user_friends_count</th>\n",
       "      <th>user_favourites_count</th>\n",
       "      <th>tweet_relative_age</th>\n",
       "    </tr>\n",
       "  </thead>\n",
       "  <tbody>\n",
       "    <tr>\n",
       "      <th>5025</th>\n",
       "      <td>False</td>\n",
       "      <td>69</td>\n",
       "      <td>9975</td>\n",
       "      <td>294</td>\n",
       "      <td>1707</td>\n",
       "      <td>10</td>\n",
       "    </tr>\n",
       "    <tr>\n",
       "      <th>13639</th>\n",
       "      <td>False</td>\n",
       "      <td>79</td>\n",
       "      <td>3185</td>\n",
       "      <td>131</td>\n",
       "      <td>628</td>\n",
       "      <td>7</td>\n",
       "    </tr>\n",
       "    <tr>\n",
       "      <th>14129</th>\n",
       "      <td>False</td>\n",
       "      <td>22</td>\n",
       "      <td>1732</td>\n",
       "      <td>42</td>\n",
       "      <td>431</td>\n",
       "      <td>0</td>\n",
       "    </tr>\n",
       "    <tr>\n",
       "      <th>13757</th>\n",
       "      <td>False</td>\n",
       "      <td>773</td>\n",
       "      <td>7109</td>\n",
       "      <td>315</td>\n",
       "      <td>1740</td>\n",
       "      <td>6</td>\n",
       "    </tr>\n",
       "    <tr>\n",
       "      <th>21501</th>\n",
       "      <td>False</td>\n",
       "      <td>62</td>\n",
       "      <td>2808</td>\n",
       "      <td>63</td>\n",
       "      <td>396</td>\n",
       "      <td>6</td>\n",
       "    </tr>\n",
       "  </tbody>\n",
       "</table>\n",
       "</div>"
      ],
      "text/plain": [
       "       user_verified  user_followers_count  user_statuses_count  \\\n",
       "5025           False                    69                 9975   \n",
       "13639          False                    79                 3185   \n",
       "14129          False                    22                 1732   \n",
       "13757          False                   773                 7109   \n",
       "21501          False                    62                 2808   \n",
       "\n",
       "       user_friends_count  user_favourites_count  tweet_relative_age  \n",
       "5025                  294                   1707                  10  \n",
       "13639                 131                    628                   7  \n",
       "14129                  42                    431                   0  \n",
       "13757                 315                   1740                   6  \n",
       "21501                  63                    396                   6  "
      ]
     },
     "execution_count": 39,
     "metadata": {},
     "output_type": "execute_result"
    }
   ],
   "source": [
    "X_train_new.head()"
   ]
  },
  {
   "cell_type": "code",
   "execution_count": 40,
   "metadata": {},
   "outputs": [],
   "source": [
    "clf = LogisticRegression(random_state=0, solver='lbfgs',multi_class='multinomial').fit(X_train_new, y_train)"
   ]
  },
  {
   "cell_type": "code",
   "execution_count": 42,
   "metadata": {},
   "outputs": [
    {
     "data": {
      "text/plain": [
       "0.8039433050914562"
      ]
     },
     "execution_count": 42,
     "metadata": {},
     "output_type": "execute_result"
    }
   ],
   "source": [
    "clf.score(X_test_new,y_test)"
   ]
  },
  {
   "cell_type": "markdown",
   "metadata": {},
   "source": [
    "# BOW representation of tweets"
   ]
  },
  {
   "cell_type": "code",
   "execution_count": 57,
   "metadata": {},
   "outputs": [],
   "source": [
    "vect = CountVectorizer(stop_words=\"english\")\n",
    "vectorizetweet = vect.fit_transform(X.loc[:,'tweet_text']).toarray()"
   ]
  },
  {
   "cell_type": "code",
   "execution_count": 58,
   "metadata": {},
   "outputs": [
    {
     "data": {
      "text/plain": [
       "(38268, 44004)"
      ]
     },
     "execution_count": 58,
     "metadata": {},
     "output_type": "execute_result"
    }
   ],
   "source": [
    "vectorizetweet.shape"
   ]
  },
  {
   "cell_type": "markdown",
   "metadata": {},
   "source": [
    "### model with tweet text and all other features"
   ]
  },
  {
   "cell_type": "code",
   "execution_count": 67,
   "metadata": {},
   "outputs": [],
   "source": [
    "without_tweets = X.iloc[:,1:].values\n",
    "X_concat = np.concatenate((vectorizetweet, without_tweets), axis=1)\n"
   ]
  },
  {
   "cell_type": "code",
   "execution_count": 68,
   "metadata": {},
   "outputs": [
    {
     "data": {
      "text/plain": [
       "(38268, 44010)"
      ]
     },
     "execution_count": 68,
     "metadata": {},
     "output_type": "execute_result"
    }
   ],
   "source": [
    "X_concat.shape"
   ]
  },
  {
   "cell_type": "code",
   "execution_count": 69,
   "metadata": {},
   "outputs": [],
   "source": [
    "X_train, X_test, y_train, y_test = train_test_split(X_concat, y, test_size=0.33, random_state=42)"
   ]
  },
  {
   "cell_type": "code",
   "execution_count": 70,
   "metadata": {},
   "outputs": [
    {
     "data": {
      "text/plain": [
       "(25639, 44010)"
      ]
     },
     "execution_count": 70,
     "metadata": {},
     "output_type": "execute_result"
    }
   ],
   "source": [
    "X_train.shape"
   ]
  },
  {
   "cell_type": "code",
   "execution_count": 71,
   "metadata": {},
   "outputs": [
    {
     "name": "stderr",
     "output_type": "stream",
     "text": [
      "/anaconda3/envs/applied_ml/lib/python3.7/site-packages/sklearn/utils/validation.py:752: DataConversionWarning: A column-vector y was passed when a 1d array was expected. Please change the shape of y to (n_samples, ), for example using ravel().\n",
      "  y = column_or_1d(y, warn=True)\n"
     ]
    }
   ],
   "source": [
    "clf = LogisticRegression(random_state=0, solver='lbfgs',multi_class='multinomial').fit(X_train, y_train)"
   ]
  },
  {
   "cell_type": "code",
   "execution_count": 72,
   "metadata": {},
   "outputs": [
    {
     "data": {
      "text/plain": [
       "0.8039433050914562"
      ]
     },
     "execution_count": 72,
     "metadata": {},
     "output_type": "execute_result"
    }
   ],
   "source": [
    "clf.score(X_test,y_test)"
   ]
  },
  {
   "cell_type": "markdown",
   "metadata": {},
   "source": [
    "### model with only tweets text"
   ]
  },
  {
   "cell_type": "code",
   "execution_count": 103,
   "metadata": {
    "scrolled": true
   },
   "outputs": [
    {
     "name": "stdout",
     "output_type": "stream",
     "text": [
      "Score 0.9086230105313168\n"
     ]
    },
    {
     "data": {
      "text/plain": [
       "array([[9825,  335],\n",
       "       [ 819, 1650]])"
      ]
     },
     "execution_count": 103,
     "metadata": {},
     "output_type": "execute_result"
    }
   ],
   "source": [
    "X_train, X_test, y_train, y_test = train_test_split(vectorizetweet, y, test_size=0.33, random_state=42)\n",
    "clf = LogisticRegression(random_state=0, solver='lbfgs',multi_class='multinomial').fit(X_train, y_train)\n",
    "\n",
    "print(\"Score\",clf.score(X_test,y_test))\n",
    "y_pred = clf.predict(X_test)\n",
    "confusion_matrix(y_test, y_pred)"
   ]
  },
  {
   "cell_type": "markdown",
   "metadata": {},
   "source": [
    "## New features + vectorized tweets"
   ]
  },
  {
   "cell_type": "markdown",
   "metadata": {},
   "source": [
    "#### Create new features from tweets text"
   ]
  },
  {
   "cell_type": "code",
   "execution_count": 121,
   "metadata": {},
   "outputs": [],
   "source": [
    "new_features = pd.DataFrame()"
   ]
  },
  {
   "cell_type": "code",
   "execution_count": 122,
   "metadata": {},
   "outputs": [],
   "source": [
    "# no of hashtags\n",
    "new_features['hashtags'] = X['tweet_text'].str.count('#')"
   ]
  },
  {
   "cell_type": "code",
   "execution_count": 123,
   "metadata": {},
   "outputs": [],
   "source": [
    "#no of tag people\n",
    "new_features['tagged'] = X['tweet_text'].str.count('@')"
   ]
  },
  {
   "cell_type": "code",
   "execution_count": 124,
   "metadata": {},
   "outputs": [],
   "source": [
    "# length of tweet\n",
    "new_features['length'] = X['tweet_text'].apply(lambda x: (len(x)))"
   ]
  },
  {
   "cell_type": "code",
   "execution_count": 125,
   "metadata": {},
   "outputs": [],
   "source": [
    "new_features['exclaimation'] = X['tweet_text'].str.count('!')"
   ]
  },
  {
   "cell_type": "code",
   "execution_count": 126,
   "metadata": {},
   "outputs": [],
   "source": [
    "X_with_new_features= np.concatenate((vectorizetweet, new_features.values), axis=1)\n"
   ]
  },
  {
   "cell_type": "code",
   "execution_count": 127,
   "metadata": {},
   "outputs": [
    {
     "name": "stdout",
     "output_type": "stream",
     "text": [
      "Score 0.9049014173727136\n"
     ]
    },
    {
     "data": {
      "text/plain": [
       "array([[9849,  311],\n",
       "       [ 890, 1579]])"
      ]
     },
     "execution_count": 127,
     "metadata": {},
     "output_type": "execute_result"
    }
   ],
   "source": [
    "X_train, X_test, y_train, y_test = train_test_split(X_with_new_features, y, test_size=0.33, random_state=42)\n",
    "clf = LogisticRegression().fit(X_train, y_train)\n",
    "print(\"Score\",clf.score(X_test,y_test))\n",
    "y_pred = clf.predict(X_test)\n",
    "confusion_matrix(y_test, y_pred)"
   ]
  },
  {
   "cell_type": "code",
   "execution_count": null,
   "metadata": {},
   "outputs": [],
   "source": []
  }
 ],
 "metadata": {
  "kernelspec": {
   "display_name": "Python 3",
   "language": "python",
   "name": "python3"
  },
  "language_info": {
   "codemirror_mode": {
    "name": "ipython",
    "version": 3
   },
   "file_extension": ".py",
   "mimetype": "text/x-python",
   "name": "python",
   "nbconvert_exporter": "python",
   "pygments_lexer": "ipython3",
   "version": "3.7.2"
  }
 },
 "nbformat": 4,
 "nbformat_minor": 2
}
