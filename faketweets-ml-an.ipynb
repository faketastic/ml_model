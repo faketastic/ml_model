{
 "cells": [
  {
   "cell_type": "code",
   "execution_count": 1,
   "metadata": {},
   "outputs": [],
   "source": [
    "import os\n",
    "import sqlalchemy \n",
    "import numpy as np\n",
    "import pandas as pd\n",
    "import matplotlib.pyplot as plt\n",
    "import seaborn as sns\n",
    "\n",
    "import credentials"
   ]
  },
  {
   "cell_type": "code",
   "execution_count": 2,
   "metadata": {},
   "outputs": [],
   "source": [
    "DB_USER = credentials.username()\n",
    "DB_PASSWORD = credentials.password()\n",
    "DB_SERVER = \"mydbinstance.cmgiyjltohsu.us-east-1.rds.amazonaws.com\"\n",
    "DATABASEURI = \"postgresql://\"+DB_USER+\":\"+DB_PASSWORD+\"@\"+DB_SERVER+\"/FakeTasticdb\"\n",
    "\n",
    "# Connect sql engine\n",
    "engine = sqlalchemy.create_engine(DATABASEURI)"
   ]
  },
  {
   "cell_type": "markdown",
   "metadata": {},
   "source": [
    "### List of features:\n",
    "\n",
    "Non text:\n",
    "\n",
    "* hashtag\n",
    "* retweet count\n",
    "* retweet (yes/no)\n",
    "* retweet_count\n",
    "* user_verified\n",
    "* user_followers_count\n",
    "* user_statuses_count\n",
    "* user_friends_count\n",
    "* user_favorites_count\n",
    "* tweet_relative_age\n",
    "\n",
    "Text:\n",
    "\n",
    "* length\n",
    "* % capitalized\n",
    "* links\n",
    "* bad words\n",
    "* punctuation (!,?)\n",
    "* hashtags"
   ]
  },
  {
   "cell_type": "code",
   "execution_count": 86,
   "metadata": {},
   "outputs": [],
   "source": [
    "#conn = engine.connect()\n",
    "query = \"\"\"SELECT tweet_id, tweet_hashtag, retweet, retweet_count, tweet_text,\n",
    "                user_verified, user_followers_count, \n",
    "                user_statuses_count, user_friends_count,\n",
    "                user_favourites_count, tweet_relative_age, is_fake\n",
    "           FROM  tweets_detailed limit 50000\n",
    "           \"\"\"\n",
    "#alltweets = conn.execute(text(query))\n",
    "#conn.close()"
   ]
  },
  {
   "cell_type": "code",
   "execution_count": 87,
   "metadata": {},
   "outputs": [],
   "source": [
    "tweets = pd.read_sql_query(query, engine)"
   ]
  },
  {
   "cell_type": "code",
   "execution_count": 88,
   "metadata": {},
   "outputs": [
    {
     "data": {
      "text/html": [
       "<div>\n",
       "<style scoped>\n",
       "    .dataframe tbody tr th:only-of-type {\n",
       "        vertical-align: middle;\n",
       "    }\n",
       "\n",
       "    .dataframe tbody tr th {\n",
       "        vertical-align: top;\n",
       "    }\n",
       "\n",
       "    .dataframe thead th {\n",
       "        text-align: right;\n",
       "    }\n",
       "</style>\n",
       "<table border=\"1\" class=\"dataframe\">\n",
       "  <thead>\n",
       "    <tr style=\"text-align: right;\">\n",
       "      <th></th>\n",
       "      <th>tweet_id</th>\n",
       "      <th>tweet_hashtag</th>\n",
       "      <th>retweet</th>\n",
       "      <th>retweet_count</th>\n",
       "      <th>tweet_text</th>\n",
       "      <th>user_verified</th>\n",
       "      <th>user_followers_count</th>\n",
       "      <th>user_statuses_count</th>\n",
       "      <th>user_friends_count</th>\n",
       "      <th>user_favourites_count</th>\n",
       "      <th>tweet_relative_age</th>\n",
       "      <th>is_fake</th>\n",
       "    </tr>\n",
       "  </thead>\n",
       "  <tbody>\n",
       "    <tr>\n",
       "      <th>0</th>\n",
       "      <td>544347456238931968</td>\n",
       "      <td>sydneysiege</td>\n",
       "      <td>False</td>\n",
       "      <td>0</td>\n",
       "      <td>@Uber_Sydney @mtats Thank you!</td>\n",
       "      <td>False</td>\n",
       "      <td>1295</td>\n",
       "      <td>7015</td>\n",
       "      <td>2001</td>\n",
       "      <td>43</td>\n",
       "      <td>5</td>\n",
       "      <td>True</td>\n",
       "    </tr>\n",
       "    <tr>\n",
       "      <th>1</th>\n",
       "      <td>544302519191863296</td>\n",
       "      <td>sydneysiege</td>\n",
       "      <td>False</td>\n",
       "      <td>0</td>\n",
       "      <td>@braduok there's 1-2 men holding 13 people hos...</td>\n",
       "      <td>False</td>\n",
       "      <td>5348</td>\n",
       "      <td>50787</td>\n",
       "      <td>2026</td>\n",
       "      <td>9176</td>\n",
       "      <td>10</td>\n",
       "      <td>True</td>\n",
       "    </tr>\n",
       "    <tr>\n",
       "      <th>2</th>\n",
       "      <td>544319371292983297</td>\n",
       "      <td>sydneysiege</td>\n",
       "      <td>False</td>\n",
       "      <td>0</td>\n",
       "      <td>@calsdiscostick they said it connects to the I...</td>\n",
       "      <td>False</td>\n",
       "      <td>390</td>\n",
       "      <td>2112</td>\n",
       "      <td>942</td>\n",
       "      <td>1205</td>\n",
       "      <td>3</td>\n",
       "      <td>True</td>\n",
       "    </tr>\n",
       "    <tr>\n",
       "      <th>3</th>\n",
       "      <td>544276351952244737</td>\n",
       "      <td>sydneysiege</td>\n",
       "      <td>False</td>\n",
       "      <td>1</td>\n",
       "      <td>@Luke_rative @australian true that but without...</td>\n",
       "      <td>False</td>\n",
       "      <td>59</td>\n",
       "      <td>999</td>\n",
       "      <td>214</td>\n",
       "      <td>663</td>\n",
       "      <td>10</td>\n",
       "      <td>True</td>\n",
       "    </tr>\n",
       "    <tr>\n",
       "      <th>4</th>\n",
       "      <td>544319916212367360</td>\n",
       "      <td>sydneysiege</td>\n",
       "      <td>False</td>\n",
       "      <td>0</td>\n",
       "      <td>@DeAnnaSabaoth Hope it helps :) have a good da...</td>\n",
       "      <td>False</td>\n",
       "      <td>556</td>\n",
       "      <td>12421</td>\n",
       "      <td>145</td>\n",
       "      <td>480</td>\n",
       "      <td>11</td>\n",
       "      <td>True</td>\n",
       "    </tr>\n",
       "  </tbody>\n",
       "</table>\n",
       "</div>"
      ],
      "text/plain": [
       "             tweet_id tweet_hashtag  retweet  retweet_count  \\\n",
       "0  544347456238931968   sydneysiege    False              0   \n",
       "1  544302519191863296   sydneysiege    False              0   \n",
       "2  544319371292983297   sydneysiege    False              0   \n",
       "3  544276351952244737   sydneysiege    False              1   \n",
       "4  544319916212367360   sydneysiege    False              0   \n",
       "\n",
       "                                          tweet_text  user_verified  \\\n",
       "0                     @Uber_Sydney @mtats Thank you!          False   \n",
       "1  @braduok there's 1-2 men holding 13 people hos...          False   \n",
       "2  @calsdiscostick they said it connects to the I...          False   \n",
       "3  @Luke_rative @australian true that but without...          False   \n",
       "4  @DeAnnaSabaoth Hope it helps :) have a good da...          False   \n",
       "\n",
       "   user_followers_count  user_statuses_count  user_friends_count  \\\n",
       "0                  1295                 7015                2001   \n",
       "1                  5348                50787                2026   \n",
       "2                   390                 2112                 942   \n",
       "3                    59                  999                 214   \n",
       "4                   556                12421                 145   \n",
       "\n",
       "   user_favourites_count  tweet_relative_age  is_fake  \n",
       "0                     43                   5     True  \n",
       "1                   9176                  10     True  \n",
       "2                   1205                   3     True  \n",
       "3                    663                  10     True  \n",
       "4                    480                  11     True  "
      ]
     },
     "execution_count": 88,
     "metadata": {},
     "output_type": "execute_result"
    }
   ],
   "source": [
    "tweets.head()"
   ]
  },
  {
   "cell_type": "code",
   "execution_count": 6,
   "metadata": {},
   "outputs": [
    {
     "data": {
      "text/plain": [
       "0.38714"
      ]
     },
     "execution_count": 6,
     "metadata": {},
     "output_type": "execute_result"
    }
   ],
   "source": [
    "len(tweets[tweets['is_fake']==True]) / len(tweets)"
   ]
  },
  {
   "cell_type": "code",
   "execution_count": 7,
   "metadata": {},
   "outputs": [
    {
     "data": {
      "image/png": "[encoded data removed]",
      "text/plain": [
       "<Figure size 1800x576 with 10 Axes>"
      ]
     },
     "metadata": {},
     "output_type": "display_data"
    }
   ],
   "source": [
    "target_name = 'is_fake'\n",
    "continuous_vars = ['user_followers_count', 'user_statuses_count', 'user_friends_count','user_favourites_count','tweet_relative_age']\n",
    "fig, ax = plt.subplots(2,5,figsize=(25,8))\n",
    "for i, var in enumerate(continuous_vars):\n",
    "    aux = pd.DataFrame({var: tweets[var],\n",
    "              target_name: tweets[target_name]})\n",
    "    ax[0, i].hist(tweets[var], bins=20, density=True)\n",
    "    ax[0, i].set_title(var)\n",
    "    meds = aux.groupby(target_name).median().sort_values(var, ascending=False).index\n",
    "    sns.boxplot(x=target_name, y=var, \n",
    "                data=aux, \n",
    "                order=meds,\n",
    "                width=0.5,\n",
    "                ax=ax[1,i],\n",
    "                fliersize=1,\n",
    "                color='orange')"
   ]
  },
  {
   "cell_type": "markdown",
   "metadata": {},
   "source": [
    "## Baseline Model without text"
   ]
  },
  {
   "cell_type": "code",
   "execution_count": 35,
   "metadata": {},
   "outputs": [],
   "source": [
    "from sklearn.model_selection import train_test_split\n",
    "from sklearn.compose import make_column_transformer\n",
    "from sklearn.pipeline import make_pipeline, Pipeline, FeatureUnion\n",
    "from sklearn.linear_model import LogisticRegression\n",
    "from sklearn.model_selection import GridSearchCV\n",
    "from sklearn.preprocessing import OneHotEncoder, StandardScaler, MinMaxScaler, Normalizer\n",
    "from sklearn.metrics import (roc_curve, precision_recall_curve,\n",
    "                             recall_score, make_scorer)\n",
    "from sklearn.ensemble import RandomForestClassifier\n",
    "from sklearn.feature_extraction.text import CountVectorizer\n",
    "from sklearn.feature_extraction.text import TfidfVectorizer, TfidfTransformer"
   ]
  },
  {
   "cell_type": "code",
   "execution_count": 9,
   "metadata": {},
   "outputs": [],
   "source": [
    "# Split data train / test\n",
    "X = tweets[[x for x in tweets.columns if x not in ['tweet_id', 'is_fake', 'tweet_text']]]\n",
    "y = tweets['is_fake']\n",
    "\n",
    "X_train, X_test, y_train, y_test = train_test_split(X, y, random_state=0)"
   ]
  },
  {
   "cell_type": "markdown",
   "metadata": {},
   "source": [
    "### Logistic Regression"
   ]
  },
  {
   "cell_type": "code",
   "execution_count": 10,
   "metadata": {},
   "outputs": [
    {
     "name": "stderr",
     "output_type": "stream",
     "text": [
      "/Users/andreanavarrete/.pyenv/versions/3.6.0/lib/python3.6/site-packages/sklearn/preprocessing/data.py:323: DataConversionWarning: Data with input dtype bool, int64 were all converted to float64 by MinMaxScaler.\n",
      "  return self.partial_fit(X, y)\n",
      "/Users/andreanavarrete/.pyenv/versions/3.6.0/lib/python3.6/site-packages/sklearn/linear_model/logistic.py:433: FutureWarning: Default solver will be changed to 'lbfgs' in 0.22. Specify a solver to silence this warning.\n",
      "  FutureWarning)\n"
     ]
    },
    {
     "data": {
      "text/plain": [
       "{'logisticregression__C': 1000.0, 'logisticregression__penalty': 'l1'}"
      ]
     },
     "execution_count": 10,
     "metadata": {},
     "output_type": "execute_result"
    }
   ],
   "source": [
    "scoring = {'roc_auc': 'roc_auc', \n",
    "           'average_precision': 'average_precision',\n",
    "           'macro_average_recall': make_scorer(recall_score, average='binary')}\n",
    "\n",
    "grid_param = [{'logisticregression__penalty': ['l1', 'l2'],\n",
    "               'logisticregression__C': np.logspace(-3, 3, 13)}]\n",
    "pipe = make_pipeline(MinMaxScaler(), LogisticRegression())\n",
    "grid_logistic = GridSearchCV(pipe, grid_param, cv=5, verbose=0,\n",
    "                             scoring=scoring, refit='roc_auc',\n",
    "                             n_jobs=-1, return_train_score=True)\n",
    "grid_logistic.fit(X_train, y_train)\n",
    "results_logistic = grid_logistic.cv_results_\n",
    "grid_logistic.best_params_"
   ]
  },
  {
   "cell_type": "code",
   "execution_count": 11,
   "metadata": {},
   "outputs": [
    {
     "data": {
      "text/html": [
       "<div>\n",
       "<style scoped>\n",
       "    .dataframe tbody tr th:only-of-type {\n",
       "        vertical-align: middle;\n",
       "    }\n",
       "\n",
       "    .dataframe tbody tr th {\n",
       "        vertical-align: top;\n",
       "    }\n",
       "\n",
       "    .dataframe thead th {\n",
       "        text-align: right;\n",
       "    }\n",
       "</style>\n",
       "<table border=\"1\" class=\"dataframe\">\n",
       "  <thead>\n",
       "    <tr style=\"text-align: right;\">\n",
       "      <th></th>\n",
       "      <th>penalty</th>\n",
       "      <th>C</th>\n",
       "      <th>macro_average_recall</th>\n",
       "      <th>roc_auc</th>\n",
       "      <th>average_precision</th>\n",
       "    </tr>\n",
       "  </thead>\n",
       "  <tbody>\n",
       "    <tr>\n",
       "      <th>24</th>\n",
       "      <td>l1</td>\n",
       "      <td>1000</td>\n",
       "      <td>0.058613</td>\n",
       "      <td>0.530729</td>\n",
       "      <td>0.426999</td>\n",
       "    </tr>\n",
       "    <tr>\n",
       "      <th>22</th>\n",
       "      <td>l1</td>\n",
       "      <td>316.228</td>\n",
       "      <td>0.058613</td>\n",
       "      <td>0.530722</td>\n",
       "      <td>0.426986</td>\n",
       "    </tr>\n",
       "    <tr>\n",
       "      <th>25</th>\n",
       "      <td>l2</td>\n",
       "      <td>1000</td>\n",
       "      <td>0.058613</td>\n",
       "      <td>0.530714</td>\n",
       "      <td>0.426944</td>\n",
       "    </tr>\n",
       "    <tr>\n",
       "      <th>20</th>\n",
       "      <td>l1</td>\n",
       "      <td>100</td>\n",
       "      <td>0.058613</td>\n",
       "      <td>0.530709</td>\n",
       "      <td>0.426961</td>\n",
       "    </tr>\n",
       "    <tr>\n",
       "      <th>23</th>\n",
       "      <td>l2</td>\n",
       "      <td>316.228</td>\n",
       "      <td>0.058613</td>\n",
       "      <td>0.530684</td>\n",
       "      <td>0.426929</td>\n",
       "    </tr>\n",
       "  </tbody>\n",
       "</table>\n",
       "</div>"
      ],
      "text/plain": [
       "   penalty        C  macro_average_recall   roc_auc  average_precision\n",
       "24      l1     1000              0.058613  0.530729           0.426999\n",
       "22      l1  316.228              0.058613  0.530722           0.426986\n",
       "25      l2     1000              0.058613  0.530714           0.426944\n",
       "20      l1      100              0.058613  0.530709           0.426961\n",
       "23      l2  316.228              0.058613  0.530684           0.426929"
      ]
     },
     "execution_count": 11,
     "metadata": {},
     "output_type": "execute_result"
    }
   ],
   "source": [
    "results_logistic_df = pd.DataFrame()\n",
    "results_logistic_df['penalty'] = results_logistic['param_logisticregression__penalty'].data\n",
    "results_logistic_df['C']  = results_logistic['param_logisticregression__C'].data\n",
    "results_logistic_df['macro_average_recall']  = results_logistic['mean_test_macro_average_recall']\n",
    "results_logistic_df['roc_auc'] = results_logistic['mean_test_roc_auc']\n",
    "results_logistic_df['average_precision'] = results_logistic['mean_test_average_precision']\n",
    "results_logistic_df.sort_values(by='roc_auc', ascending=False).head()"
   ]
  },
  {
   "cell_type": "code",
   "execution_count": 12,
   "metadata": {},
   "outputs": [
    {
     "data": {
      "text/plain": [
       "0.5250684970383145"
      ]
     },
     "execution_count": 12,
     "metadata": {},
     "output_type": "execute_result"
    }
   ],
   "source": [
    "grid_logistic.score(X_test, y_test)"
   ]
  },
  {
   "cell_type": "markdown",
   "metadata": {},
   "source": [
    "### Random Forest"
   ]
  },
  {
   "cell_type": "code",
   "execution_count": 13,
   "metadata": {},
   "outputs": [
    {
     "name": "stderr",
     "output_type": "stream",
     "text": [
      "/Users/andreanavarrete/.pyenv/versions/3.6.0/lib/python3.6/site-packages/sklearn/ensemble/forest.py:246: FutureWarning: The default value of n_estimators will change from 10 in version 0.20 to 100 in 0.22.\n",
      "  \"10 in version 0.20 to 100 in 0.22.\", FutureWarning)\n"
     ]
    },
    {
     "data": {
      "text/plain": [
       "{'randomforestclassifier__max_leaf_nodes': 49}"
      ]
     },
     "execution_count": 13,
     "metadata": {},
     "output_type": "execute_result"
    }
   ],
   "source": [
    "grid_param = {'randomforestclassifier__max_leaf_nodes':range(5, 50)}\n",
    "pipe = make_pipeline(RandomForestClassifier(warm_start=True, random_state=0))\n",
    "grid_rf = GridSearchCV(pipe, grid_param, cv=5, verbose=0,\n",
    "                             n_jobs=-1, return_train_score=True,\n",
    "                             scoring=scoring,\n",
    "                             refit='roc_auc'\n",
    "                            )\n",
    "grid_rf.fit(X_train, y_train)\n",
    "results_rf = grid_rf.cv_results_\n",
    "grid_rf.best_params_"
   ]
  },
  {
   "cell_type": "code",
   "execution_count": 14,
   "metadata": {},
   "outputs": [
    {
     "data": {
      "text/plain": [
       "0.6675498632864831"
      ]
     },
     "execution_count": 14,
     "metadata": {},
     "output_type": "execute_result"
    }
   ],
   "source": [
    "grid_rf.score(X_test, y_test)"
   ]
  },
  {
   "cell_type": "markdown",
   "metadata": {},
   "source": [
    "## Using text data"
   ]
  },
  {
   "cell_type": "markdown",
   "metadata": {},
   "source": [
    "### Baseline"
   ]
  },
  {
   "cell_type": "code",
   "execution_count": 17,
   "metadata": {},
   "outputs": [
    {
     "name": "stdout",
     "output_type": "stream",
     "text": [
      "Number of train tweets 37500\n",
      "Number of test tweets 12500\n",
      "% of class 1 train 0.3871733333333333\n",
      "% of class 1 test 0.38704\n"
     ]
    }
   ],
   "source": [
    "# Split data train / test\n",
    "X = tweets['tweet_text']\n",
    "y = tweets['is_fake']\n",
    "\n",
    "X_train, X_test, y_train, y_test = train_test_split(X, y, random_state=0, shuffle=True)\n",
    "print(\"Number of train tweets\", len(X_train))\n",
    "print(\"Number of test tweets\",len(X_test))\n",
    "\n",
    "# check balances\n",
    "print(\"% of class 1 train\", len(y_train[y_train == 1]) / len(y_train))\n",
    "print(\"% of class 1 test\", len(y_test[y_test == 1]) / len(y_test))"
   ]
  },
  {
   "cell_type": "code",
   "execution_count": 18,
   "metadata": {},
   "outputs": [
    {
     "data": {
      "text/plain": [
       "GridSearchCV(cv=5, error_score='raise-deprecating',\n",
       "       estimator=Pipeline(memory=None,\n",
       "     steps=[('countvectorizer', CountVectorizer(analyzer='word', binary=False, decode_error='strict',\n",
       "        dtype=<class 'numpy.int64'>, encoding='utf-8', input='content',\n",
       "        lowercase=True, max_df=1.0, max_features=None, min_df=1,\n",
       "        ngram_range=(1, 1), preprocessor=None, stop_words=None,\n",
       "  ...ty='l2', random_state=None, solver='liblinear',\n",
       "          tol=0.0001, verbose=0, warm_start=False))]),\n",
       "       fit_params=None, iid='warn', n_jobs=None,\n",
       "       param_grid={'logisticregression__C': array([ 0.1,  1. , 10. ])},\n",
       "       pre_dispatch='2*n_jobs', refit=True, return_train_score='warn',\n",
       "       scoring='roc_auc', verbose=0)"
      ]
     },
     "execution_count": 18,
     "metadata": {},
     "output_type": "execute_result"
    }
   ],
   "source": [
    "np.random.seed(2019)\n",
    "param_grid_baseline = {\"logisticregression__C\": np.logspace(-1,1,3)}\n",
    "pipe_baseline = make_pipeline(CountVectorizer(),\n",
    "                              LogisticRegression(solver='liblinear'))\n",
    "grid_baseline = GridSearchCV(pipe_baseline,\n",
    "                             param_grid=param_grid_baseline,\n",
    "                             cv=5, scoring=\"roc_auc\")\n",
    "grid_baseline.fit(X_train, y_train)"
   ]
  },
  {
   "cell_type": "code",
   "execution_count": 19,
   "metadata": {},
   "outputs": [
    {
     "data": {
      "text/plain": [
       "{'logisticregression__C': 10.0}"
      ]
     },
     "execution_count": 19,
     "metadata": {},
     "output_type": "execute_result"
    }
   ],
   "source": [
    "grid_baseline.best_params_"
   ]
  },
  {
   "cell_type": "code",
   "execution_count": 20,
   "metadata": {},
   "outputs": [
    {
     "data": {
      "text/plain": [
       "0.9654684465626349"
      ]
     },
     "execution_count": 20,
     "metadata": {},
     "output_type": "execute_result"
    }
   ],
   "source": [
    "np.mean(grid_baseline.cv_results_['mean_test_score'])"
   ]
  },
  {
   "cell_type": "code",
   "execution_count": 21,
   "metadata": {},
   "outputs": [
    {
     "data": {
      "text/plain": [
       "0.9868683211273668"
      ]
     },
     "execution_count": 21,
     "metadata": {},
     "output_type": "execute_result"
    }
   ],
   "source": [
    "grid_baseline.score(X_test, y_test)"
   ]
  },
  {
   "cell_type": "code",
   "execution_count": 22,
   "metadata": {},
   "outputs": [],
   "source": [
    "def plot_coefficients(coefs, features):\n",
    "    fig,ax = plt.subplots(figsize=(17,7))\n",
    "    \n",
    "    coefs = pd.DataFrame(coefs, columns=['coef']).reset_index()\n",
    "    coefs['abs_coef'] = abs(coefs['coef'])\n",
    "    coefs['sign'] = coefs['coef'].map(np.sign)\n",
    "    coefs['features'] = coefs['index'].apply(lambda x: features[x])\n",
    "    top_coefs = coefs.sort_values(by='abs_coef', ascending=False).head(50)\n",
    "    top_coefs = top_coefs.sort_values(by='coef', ascending=False)\n",
    "    top_coefs.sort_values(by='coef', ascending=False).plot(kind='bar', \n",
    "                y='coef', x='features',\n",
    "                ax=ax,\n",
    "                rot=40,\n",
    "                legend=False,\n",
    "                sort_columns=True,\n",
    "                title='Top 20 features for Logistic Regression',\n",
    "                color=np.where(top_coefs[\"coef\"]> 0, 'b', 'g'))\n",
    "    labels = [l.get_text() for l in ax.get_xticklabels()]\n",
    "    ax = ax.set_xticklabels(labels, ha='right')\n",
    "    plt.show()"
   ]
  },
  {
   "cell_type": "code",
   "execution_count": 23,
   "metadata": {},
   "outputs": [
    {
     "data": {
      "image/png": "[encoded data removed]",
      "text/plain": [
       "<Figure size 1224x504 with 1 Axes>"
      ]
     },
     "metadata": {},
     "output_type": "display_data"
    }
   ],
   "source": [
    "voc_word_baseline = grid_baseline.best_estimator_. \\\n",
    "                        named_steps['countvectorizer'].vocabulary_\n",
    "voc_index_baseline = {y:x for x,y in voc_word_baseline.items()}\n",
    "# Coefficientes\n",
    "coefs_baseline = grid_baseline.best_estimator_.named_steps['logisticregression'].coef_[0]\n",
    "plot_coefficients(coefs_baseline, voc_index_baseline)"
   ]
  },
  {
   "cell_type": "markdown",
   "metadata": {},
   "source": [
    "### Normalizer"
   ]
  },
  {
   "cell_type": "code",
   "execution_count": 24,
   "metadata": {},
   "outputs": [
    {
     "data": {
      "text/plain": [
       "GridSearchCV(cv=5, error_score='raise-deprecating',\n",
       "       estimator=Pipeline(memory=None,\n",
       "     steps=[('countvectorizer', CountVectorizer(analyzer='word', binary=False, decode_error='strict',\n",
       "        dtype=<class 'numpy.int64'>, encoding='utf-8', input='content',\n",
       "        lowercase=True, max_df=1.0, max_features=None, min_df=1,\n",
       "        ngram_range=(1, 1), preprocessor=None, stop_words=None,\n",
       "  ...ty='l2', random_state=None, solver='liblinear',\n",
       "          tol=0.0001, verbose=0, warm_start=False))]),\n",
       "       fit_params=None, iid='warn', n_jobs=None,\n",
       "       param_grid={'logisticregression__C': array([ 0.1,  1. , 10. ]), 'normalizer': [None, Normalizer(copy=True, norm='l2')]},\n",
       "       pre_dispatch='2*n_jobs', refit=True, return_train_score='warn',\n",
       "       scoring='roc_auc', verbose=0)"
      ]
     },
     "execution_count": 24,
     "metadata": {},
     "output_type": "execute_result"
    }
   ],
   "source": [
    "np.random.seed(2019)\n",
    "param_grid_normalizer = {\"logisticregression__C\": np.logspace(-1,1,3),\n",
    "                         \"normalizer\": [None, Normalizer()]}\n",
    "pipe_normalizer = make_pipeline(CountVectorizer(),\n",
    "                                Normalizer(),\n",
    "                                LogisticRegression(solver='liblinear'))\n",
    "grid_normalizer = GridSearchCV(pipe_normalizer,\n",
    "                               param_grid=param_grid_normalizer,\n",
    "                               cv=5, scoring=\"roc_auc\")\n",
    "grid_normalizer.fit(X_train, y_train)"
   ]
  },
  {
   "cell_type": "code",
   "execution_count": 25,
   "metadata": {},
   "outputs": [
    {
     "data": {
      "text/plain": [
       "{'logisticregression__C': 10.0, 'normalizer': None}"
      ]
     },
     "execution_count": 25,
     "metadata": {},
     "output_type": "execute_result"
    }
   ],
   "source": [
    "grid_normalizer.best_params_"
   ]
  },
  {
   "cell_type": "code",
   "execution_count": 26,
   "metadata": {},
   "outputs": [
    {
     "data": {
      "text/plain": [
       "0.9868683211273668"
      ]
     },
     "execution_count": 26,
     "metadata": {},
     "output_type": "execute_result"
    }
   ],
   "source": [
    "grid_normalizer.score(X_test, y_test)"
   ]
  },
  {
   "cell_type": "code",
   "execution_count": 27,
   "metadata": {},
   "outputs": [
    {
     "data": {
      "text/plain": [
       "0.941761712005135"
      ]
     },
     "execution_count": 27,
     "metadata": {},
     "output_type": "execute_result"
    }
   ],
   "source": [
    "np.mean(grid_normalizer.cv_results_['mean_test_score'])"
   ]
  },
  {
   "cell_type": "code",
   "execution_count": 28,
   "metadata": {},
   "outputs": [
    {
     "data": {
      "image/png": "[encoded data removed]",
      "text/plain": [
       "<Figure size 1224x504 with 1 Axes>"
      ]
     },
     "metadata": {},
     "output_type": "display_data"
    }
   ],
   "source": [
    "voc_word_normalizer = grid_normalizer.best_estimator_. \\\n",
    "                named_steps['countvectorizer'].vocabulary_\n",
    "voc_index_normalizer = {y:x for x,y in voc_word_normalizer.items()}\n",
    "# Coefficientes\n",
    "coefs_normalizer = grid_normalizer.best_estimator_. \\\n",
    "                        named_steps['logisticregression'].coef_[0]\n",
    "plot_coefficients(coefs_normalizer, voc_index_normalizer)"
   ]
  },
  {
   "cell_type": "markdown",
   "metadata": {},
   "source": [
    "### Char"
   ]
  },
  {
   "cell_type": "code",
   "execution_count": 29,
   "metadata": {},
   "outputs": [
    {
     "data": {
      "text/plain": [
       "GridSearchCV(cv=5, error_score='raise-deprecating',\n",
       "       estimator=Pipeline(memory=None,\n",
       "     steps=[('countvectorizer', CountVectorizer(analyzer='char_wb', binary=False, decode_error='strict',\n",
       "        dtype=<class 'numpy.int64'>, encoding='utf-8', input='content',\n",
       "        lowercase=True, max_df=1.0, max_features=None, min_df=4,\n",
       "        ngram_range=(1, 1), preprocessor=None, stop_words=None,...ty='l2', random_state=None, solver='liblinear',\n",
       "          tol=0.0001, verbose=0, warm_start=False))]),\n",
       "       fit_params=None, iid='warn', n_jobs=None,\n",
       "       param_grid={'logisticregression__C': [10], 'normalizer': [None, Normalizer(copy=True, norm='l2')], 'countvectorizer__ngram_range': [(2, 4), (3, 6)]},\n",
       "       pre_dispatch='2*n_jobs', refit=True, return_train_score='warn',\n",
       "       scoring='roc_auc', verbose=0)"
      ]
     },
     "execution_count": 29,
     "metadata": {},
     "output_type": "execute_result"
    }
   ],
   "source": [
    "np.random.seed(2019)\n",
    "param_grid_char = {\"logisticregression__C\": [10],#np.logspace(-1,1,3),\n",
    "                   \"normalizer\": [None, Normalizer()],\n",
    "                   \"countvectorizer__ngram_range\": [(2, 4), (3, 6)]}\n",
    "pipe_char = make_pipeline(CountVectorizer(analyzer=\"char_wb\", min_df=4),\n",
    "                          Normalizer(),\n",
    "                          TfidfTransformer(),\n",
    "                          LogisticRegression(solver='liblinear'))\n",
    "grid_char = GridSearchCV(pipe_char, param_grid=param_grid_char, cv=5, scoring=\"roc_auc\")\n",
    "grid_char.fit(X_train, y_train)"
   ]
  },
  {
   "cell_type": "code",
   "execution_count": 30,
   "metadata": {},
   "outputs": [
    {
     "data": {
      "text/plain": [
       "0.976384738510051"
      ]
     },
     "execution_count": 30,
     "metadata": {},
     "output_type": "execute_result"
    }
   ],
   "source": [
    "np.mean(grid_char.cv_results_['mean_test_score'])"
   ]
  },
  {
   "cell_type": "code",
   "execution_count": 31,
   "metadata": {},
   "outputs": [
    {
     "data": {
      "text/plain": [
       "0.9848476706366946"
      ]
     },
     "execution_count": 31,
     "metadata": {},
     "output_type": "execute_result"
    }
   ],
   "source": [
    "grid_char.score(X_test, y_test)"
   ]
  },
  {
   "cell_type": "code",
   "execution_count": 33,
   "metadata": {},
   "outputs": [
    {
     "data": {
      "image/png": "[encoded data removed]",
      "text/plain": [
       "<Figure size 1224x504 with 1 Axes>"
      ]
     },
     "metadata": {},
     "output_type": "display_data"
    }
   ],
   "source": [
    "voc_word_char = grid_char.best_estimator_. \\\n",
    "                    named_steps['countvectorizer'].vocabulary_\n",
    "voc_index_char = {y:x for x,y in voc_word_char.items()}\n",
    "# Coefficientes\n",
    "coefs_char = grid_char.best_estimator_.named_steps['logisticregression'].coef_[0]\n",
    "plot_coefficients(coefs_char, voc_index_char)"
   ]
  },
  {
   "cell_type": "markdown",
   "metadata": {},
   "source": [
    "## Adding text features"
   ]
  },
  {
   "cell_type": "code",
   "execution_count": 57,
   "metadata": {},
   "outputs": [
    {
     "name": "stderr",
     "output_type": "stream",
     "text": [
      "[nltk_data] Downloading package punkt to\n",
      "[nltk_data]     /Users/andreanavarrete/nltk_data...\n",
      "[nltk_data]   Package punkt is already up-to-date!\n"
     ]
    }
   ],
   "source": [
    "import re\n",
    "import nltk\n",
    "nltk.download('punkt')\n",
    "from nltk.tokenize import sent_tokenize\n",
    "\n",
    "def num_hashtags(body):\n",
    "    r = re.findall(r\"(?=(# ))\", body)\n",
    "    return len(r)\n",
    "\n",
    "def num_tags(body):\n",
    "    r = re.findall(r\"(?=(@ ))\", body)\n",
    "    return len(r)\n",
    "\n",
    "def get_num_sentences(body):\n",
    "    return len(sent_tokenize(body))\n",
    "    \n",
    "def find_html(body):\n",
    "    string_lst = ['https://', 'www.', 'http://', 'html']\n",
    "    r = re.findall(r\"(?=(\"+'|'.join(string_lst)+r\"))\", body)\n",
    "    if len(r) > 0:\n",
    "        return 1\n",
    "    else:\n",
    "        return 0\n",
    "\n",
    "def percentage_capital(body):\n",
    "    cap = sum(1 for c in body if c.isupper())\n",
    "    return cap/ sum(1 for c in test if c.isalpha())\n",
    "    \n",
    "\n",
    "def num_exclamation(body):\n",
    "    r = re.findall(r\"(?=(!))\", body)\n",
    "    return len(r)\n",
    "\n",
    "def more_than_three(body):\n",
    "    r = re.findall(r'((\\w)\\2{3,})', body)\n",
    "    if len(r) > 0:\n",
    "        return 1\n",
    "    else:\n",
    "        return 0\n",
    "\n",
    "def num_questions(body):\n",
    "    r = re.findall(r\"(?=(\\? ))\", body)\n",
    "    return len(r)\n"
   ]
  },
  {
   "cell_type": "code",
   "execution_count": 63,
   "metadata": {},
   "outputs": [
    {
     "data": {
      "text/plain": [
       "39758    @DAJSamarasinghe @FamousRob @nicchristensen Ye...\n",
       "18457    @dougom Conservatives are profoundly sick of R...\n",
       "33239    @ramblesofpower It's not \"islamophobia\" it's \"...\n",
       "35006    @KyaYaarKuchBi @MariamVeiszadeh \\nI am sorry, ...\n",
       "30982    @DailyMailAU @joeleigh41 \\n the BBC translated...\n",
       "Name: tweet_text, dtype: object"
      ]
     },
     "execution_count": 63,
     "metadata": {},
     "output_type": "execute_result"
    }
   ],
   "source": [
    "X_train.head()"
   ]
  },
  {
   "cell_type": "code",
   "execution_count": 93,
   "metadata": {},
   "outputs": [],
   "source": [
    "# Length\n",
    "tweets['tweet_length'] = tweets['tweet_text'].map(len)\n",
    "# Number of sentences\n",
    "tweets['num_sentences'] =  tweets['tweet_text'].map(get_num_sentences)\n",
    "# Number of hastags\n",
    "tweets['num_hashtags'] = tweets['tweet_text'].map(num_hashtags)\n",
    "# Number of taggs\n",
    "tweets['num_tags'] = tweets['tweet_text'].map(num_tags)\n",
    "# find_html\n",
    "tweets['with_html'] = tweets['tweet_text'].map(find_html)\n",
    "# Percentage Capitalize\n",
    "tweets['percentage_capital'] = tweets['tweet_text'].map(percentage_capital)\n",
    "# Number of excalamation marks\n",
    "tweets['num_exclamation'] = tweets['tweet_text'].map(num_exclamation)\n",
    "# Num questions\n",
    "tweets['num_questions'] = tweets['tweet_text'].map(num_questions)"
   ]
  },
  {
   "cell_type": "code",
   "execution_count": 69,
   "metadata": {},
   "outputs": [
    {
     "name": "stdout",
     "output_type": "stream",
     "text": [
      "Number of train tweets 37500\n",
      "Number of test tweets 12500\n",
      "% of class 1 train 0.3871733333333333\n",
      "% of class 1 test 0.38704\n"
     ]
    }
   ],
   "source": [
    "# Features\n",
    "text_features = ['tweet_text', 'tweet_length', 'num_sentences', \n",
    "                 'num_hashtags', 'num_tags', 'with_html',\n",
    "                 'percentage_capital', 'num_exclamation', 'num_questions']\n",
    "\n",
    "# Split data train / test\n",
    "X = tweets[text_features]\n",
    "y = tweets['is_fake']\n",
    "\n",
    "X_train, X_test, y_train, y_test = train_test_split(X, y, random_state=0, shuffle=True)\n",
    "print(\"Number of train tweets\", len(X_train))\n",
    "print(\"Number of test tweets\",len(X_test))\n",
    "\n",
    "# check balances\n",
    "print(\"% of class 1 train\", len(y_train[y_train == 1]) / len(y_train))\n",
    "print(\"% of class 1 test\", len(y_test[y_test == 1]) / len(y_test))"
   ]
  },
  {
   "cell_type": "code",
   "execution_count": 71,
   "metadata": {},
   "outputs": [
    {
     "data": {
      "text/plain": [
       "GridSearchCV(cv=5, error_score='raise-deprecating',\n",
       "       estimator=Pipeline(memory=None,\n",
       "     steps=[('pre', ColumnTransformer(n_jobs=None, remainder='passthrough', sparse_threshold=0.3,\n",
       "         transformer_weights=None,\n",
       "         transformers=[('tfidfvectorizer', TfidfVectorizer(analyzer='char_wb', binary=False, decode_error='strict',\n",
       "        dtype=<class 'numpy.float64'>, encoding='utf-8',...ty='l2', random_state=None, solver='liblinear',\n",
       "          tol=0.0001, verbose=0, warm_start=False))]),\n",
       "       fit_params=None, iid='warn', n_jobs=None,\n",
       "       param_grid={'clf__C': array([ 0.1,  1. , 10. ]), 'pre__tfidfvectorizer__ngram_range': [(2, 4), (3, 6)]},\n",
       "       pre_dispatch='2*n_jobs', refit=True, return_train_score='warn',\n",
       "       scoring='roc_auc', verbose=0)"
      ]
     },
     "execution_count": 71,
     "metadata": {},
     "output_type": "execute_result"
    }
   ],
   "source": [
    "np.random.seed(2019)\n",
    "param_grid_features = {\"clf__C\": np.logspace(-1,1,3),\n",
    "                       \"pre__tfidfvectorizer__ngram_range\": [(2, 4), (3, 6)]}\n",
    "pipe_vec = make_pipeline(TfidfVectorizer())\n",
    "\n",
    "preprocess = make_column_transformer(\n",
    "            (TfidfVectorizer(analyzer=\"char_wb\", min_df=4), 'tweet_text'),\n",
    "                                     remainder='passthrough')\n",
    "pipe_features = Pipeline([('pre', preprocess),\n",
    "                 ('clf', LogisticRegression(solver='liblinear'))])\n",
    "grid_features = GridSearchCV(pipe_features, \n",
    "                             param_grid=param_grid_features, \n",
    "                             cv=5, scoring=\"roc_auc\")\n",
    "grid_features.fit(X_train, y_train)"
   ]
  },
  {
   "cell_type": "code",
   "execution_count": 72,
   "metadata": {},
   "outputs": [
    {
     "data": {
      "text/plain": [
       "{'clf__C': 10.0, 'pre__tfidfvectorizer__ngram_range': (3, 6)}"
      ]
     },
     "execution_count": 72,
     "metadata": {},
     "output_type": "execute_result"
    }
   ],
   "source": [
    "grid_features.best_params_"
   ]
  },
  {
   "cell_type": "code",
   "execution_count": 73,
   "metadata": {},
   "outputs": [
    {
     "data": {
      "text/plain": [
       "0.9402093490299347"
      ]
     },
     "execution_count": 73,
     "metadata": {},
     "output_type": "execute_result"
    }
   ],
   "source": [
    "np.mean(grid_features.cv_results_['mean_test_score'])"
   ]
  },
  {
   "cell_type": "code",
   "execution_count": 75,
   "metadata": {},
   "outputs": [
    {
     "data": {
      "text/plain": [
       "0.9846527895352085"
      ]
     },
     "execution_count": 75,
     "metadata": {},
     "output_type": "execute_result"
    }
   ],
   "source": [
    "grid_features.score(X_test, y_test)"
   ]
  },
  {
   "cell_type": "code",
   "execution_count": 76,
   "metadata": {},
   "outputs": [
    {
     "data": {
      "image/png": "[encoded data removed]",
      "text/plain": [
       "<Figure size 1224x504 with 1 Axes>"
      ]
     },
     "metadata": {},
     "output_type": "display_data"
    }
   ],
   "source": [
    "voc_char_features = grid_features.best_estimator_.named_steps['pre']. \\\n",
    "                        named_transformers_['tfidfvectorizer'].vocabulary_.copy()\n",
    "extra_features = {x:i+len(voc_char_features) \n",
    "                  for i,x in enumerate([x for x in text_features if x!= 'tweet_text'])}\n",
    "voc_char_features.update(extra_features)\n",
    "voc_index_features = {y:x for x,y in voc_char_features.items()}\n",
    "# Coefficientes\n",
    "coefs_features = grid_features.best_estimator_.named_steps['clf'].coef_[0]\n",
    "plot_coefficients(coefs_features, voc_index_features)"
   ]
  },
  {
   "cell_type": "code",
   "execution_count": 81,
   "metadata": {},
   "outputs": [
    {
     "data": {
      "text/plain": [
       "[5, 15, 25, 35, 45]"
      ]
     },
     "execution_count": 81,
     "metadata": {},
     "output_type": "execute_result"
    }
   ],
   "source": [
    "list(range(5, 50, 10))"
   ]
  },
  {
   "cell_type": "code",
   "execution_count": 82,
   "metadata": {},
   "outputs": [
    {
     "name": "stderr",
     "output_type": "stream",
     "text": [
      "/Users/andreanavarrete/.pyenv/versions/3.6.0/lib/python3.6/site-packages/sklearn/ensemble/forest.py:246: FutureWarning: The default value of n_estimators will change from 10 in version 0.20 to 100 in 0.22.\n",
      "  \"10 in version 0.20 to 100 in 0.22.\", FutureWarning)\n",
      "/Users/andreanavarrete/.pyenv/versions/3.6.0/lib/python3.6/site-packages/sklearn/ensemble/forest.py:246: FutureWarning: The default value of n_estimators will change from 10 in version 0.20 to 100 in 0.22.\n",
      "  \"10 in version 0.20 to 100 in 0.22.\", FutureWarning)\n",
      "/Users/andreanavarrete/.pyenv/versions/3.6.0/lib/python3.6/site-packages/sklearn/ensemble/forest.py:246: FutureWarning: The default value of n_estimators will change from 10 in version 0.20 to 100 in 0.22.\n",
      "  \"10 in version 0.20 to 100 in 0.22.\", FutureWarning)\n",
      "/Users/andreanavarrete/.pyenv/versions/3.6.0/lib/python3.6/site-packages/sklearn/ensemble/forest.py:246: FutureWarning: The default value of n_estimators will change from 10 in version 0.20 to 100 in 0.22.\n",
      "  \"10 in version 0.20 to 100 in 0.22.\", FutureWarning)\n",
      "/Users/andreanavarrete/.pyenv/versions/3.6.0/lib/python3.6/site-packages/sklearn/ensemble/forest.py:246: FutureWarning: The default value of n_estimators will change from 10 in version 0.20 to 100 in 0.22.\n",
      "  \"10 in version 0.20 to 100 in 0.22.\", FutureWarning)\n",
      "/Users/andreanavarrete/.pyenv/versions/3.6.0/lib/python3.6/site-packages/sklearn/ensemble/forest.py:246: FutureWarning: The default value of n_estimators will change from 10 in version 0.20 to 100 in 0.22.\n",
      "  \"10 in version 0.20 to 100 in 0.22.\", FutureWarning)\n",
      "/Users/andreanavarrete/.pyenv/versions/3.6.0/lib/python3.6/site-packages/sklearn/ensemble/forest.py:246: FutureWarning: The default value of n_estimators will change from 10 in version 0.20 to 100 in 0.22.\n",
      "  \"10 in version 0.20 to 100 in 0.22.\", FutureWarning)\n",
      "/Users/andreanavarrete/.pyenv/versions/3.6.0/lib/python3.6/site-packages/sklearn/ensemble/forest.py:246: FutureWarning: The default value of n_estimators will change from 10 in version 0.20 to 100 in 0.22.\n",
      "  \"10 in version 0.20 to 100 in 0.22.\", FutureWarning)\n",
      "/Users/andreanavarrete/.pyenv/versions/3.6.0/lib/python3.6/site-packages/sklearn/ensemble/forest.py:246: FutureWarning: The default value of n_estimators will change from 10 in version 0.20 to 100 in 0.22.\n",
      "  \"10 in version 0.20 to 100 in 0.22.\", FutureWarning)\n",
      "/Users/andreanavarrete/.pyenv/versions/3.6.0/lib/python3.6/site-packages/sklearn/ensemble/forest.py:246: FutureWarning: The default value of n_estimators will change from 10 in version 0.20 to 100 in 0.22.\n",
      "  \"10 in version 0.20 to 100 in 0.22.\", FutureWarning)\n",
      "/Users/andreanavarrete/.pyenv/versions/3.6.0/lib/python3.6/site-packages/sklearn/ensemble/forest.py:246: FutureWarning: The default value of n_estimators will change from 10 in version 0.20 to 100 in 0.22.\n",
      "  \"10 in version 0.20 to 100 in 0.22.\", FutureWarning)\n",
      "/Users/andreanavarrete/.pyenv/versions/3.6.0/lib/python3.6/site-packages/sklearn/ensemble/forest.py:246: FutureWarning: The default value of n_estimators will change from 10 in version 0.20 to 100 in 0.22.\n",
      "  \"10 in version 0.20 to 100 in 0.22.\", FutureWarning)\n",
      "/Users/andreanavarrete/.pyenv/versions/3.6.0/lib/python3.6/site-packages/sklearn/ensemble/forest.py:246: FutureWarning: The default value of n_estimators will change from 10 in version 0.20 to 100 in 0.22.\n",
      "  \"10 in version 0.20 to 100 in 0.22.\", FutureWarning)\n",
      "/Users/andreanavarrete/.pyenv/versions/3.6.0/lib/python3.6/site-packages/sklearn/ensemble/forest.py:246: FutureWarning: The default value of n_estimators will change from 10 in version 0.20 to 100 in 0.22.\n",
      "  \"10 in version 0.20 to 100 in 0.22.\", FutureWarning)\n",
      "/Users/andreanavarrete/.pyenv/versions/3.6.0/lib/python3.6/site-packages/sklearn/ensemble/forest.py:246: FutureWarning: The default value of n_estimators will change from 10 in version 0.20 to 100 in 0.22.\n",
      "  \"10 in version 0.20 to 100 in 0.22.\", FutureWarning)\n",
      "/Users/andreanavarrete/.pyenv/versions/3.6.0/lib/python3.6/site-packages/sklearn/ensemble/forest.py:246: FutureWarning: The default value of n_estimators will change from 10 in version 0.20 to 100 in 0.22.\n",
      "  \"10 in version 0.20 to 100 in 0.22.\", FutureWarning)\n",
      "/Users/andreanavarrete/.pyenv/versions/3.6.0/lib/python3.6/site-packages/sklearn/ensemble/forest.py:246: FutureWarning: The default value of n_estimators will change from 10 in version 0.20 to 100 in 0.22.\n",
      "  \"10 in version 0.20 to 100 in 0.22.\", FutureWarning)\n",
      "/Users/andreanavarrete/.pyenv/versions/3.6.0/lib/python3.6/site-packages/sklearn/ensemble/forest.py:246: FutureWarning: The default value of n_estimators will change from 10 in version 0.20 to 100 in 0.22.\n",
      "  \"10 in version 0.20 to 100 in 0.22.\", FutureWarning)\n",
      "/Users/andreanavarrete/.pyenv/versions/3.6.0/lib/python3.6/site-packages/sklearn/ensemble/forest.py:246: FutureWarning: The default value of n_estimators will change from 10 in version 0.20 to 100 in 0.22.\n",
      "  \"10 in version 0.20 to 100 in 0.22.\", FutureWarning)\n",
      "/Users/andreanavarrete/.pyenv/versions/3.6.0/lib/python3.6/site-packages/sklearn/ensemble/forest.py:246: FutureWarning: The default value of n_estimators will change from 10 in version 0.20 to 100 in 0.22.\n",
      "  \"10 in version 0.20 to 100 in 0.22.\", FutureWarning)\n",
      "/Users/andreanavarrete/.pyenv/versions/3.6.0/lib/python3.6/site-packages/sklearn/ensemble/forest.py:246: FutureWarning: The default value of n_estimators will change from 10 in version 0.20 to 100 in 0.22.\n",
      "  \"10 in version 0.20 to 100 in 0.22.\", FutureWarning)\n",
      "/Users/andreanavarrete/.pyenv/versions/3.6.0/lib/python3.6/site-packages/sklearn/ensemble/forest.py:246: FutureWarning: The default value of n_estimators will change from 10 in version 0.20 to 100 in 0.22.\n",
      "  \"10 in version 0.20 to 100 in 0.22.\", FutureWarning)\n",
      "/Users/andreanavarrete/.pyenv/versions/3.6.0/lib/python3.6/site-packages/sklearn/ensemble/forest.py:246: FutureWarning: The default value of n_estimators will change from 10 in version 0.20 to 100 in 0.22.\n",
      "  \"10 in version 0.20 to 100 in 0.22.\", FutureWarning)\n",
      "/Users/andreanavarrete/.pyenv/versions/3.6.0/lib/python3.6/site-packages/sklearn/ensemble/forest.py:246: FutureWarning: The default value of n_estimators will change from 10 in version 0.20 to 100 in 0.22.\n",
      "  \"10 in version 0.20 to 100 in 0.22.\", FutureWarning)\n",
      "/Users/andreanavarrete/.pyenv/versions/3.6.0/lib/python3.6/site-packages/sklearn/ensemble/forest.py:246: FutureWarning: The default value of n_estimators will change from 10 in version 0.20 to 100 in 0.22.\n",
      "  \"10 in version 0.20 to 100 in 0.22.\", FutureWarning)\n",
      "/Users/andreanavarrete/.pyenv/versions/3.6.0/lib/python3.6/site-packages/sklearn/ensemble/forest.py:246: FutureWarning: The default value of n_estimators will change from 10 in version 0.20 to 100 in 0.22.\n",
      "  \"10 in version 0.20 to 100 in 0.22.\", FutureWarning)\n",
      "/Users/andreanavarrete/.pyenv/versions/3.6.0/lib/python3.6/site-packages/sklearn/ensemble/forest.py:246: FutureWarning: The default value of n_estimators will change from 10 in version 0.20 to 100 in 0.22.\n",
      "  \"10 in version 0.20 to 100 in 0.22.\", FutureWarning)\n",
      "/Users/andreanavarrete/.pyenv/versions/3.6.0/lib/python3.6/site-packages/sklearn/ensemble/forest.py:246: FutureWarning: The default value of n_estimators will change from 10 in version 0.20 to 100 in 0.22.\n",
      "  \"10 in version 0.20 to 100 in 0.22.\", FutureWarning)\n",
      "/Users/andreanavarrete/.pyenv/versions/3.6.0/lib/python3.6/site-packages/sklearn/ensemble/forest.py:246: FutureWarning: The default value of n_estimators will change from 10 in version 0.20 to 100 in 0.22.\n",
      "  \"10 in version 0.20 to 100 in 0.22.\", FutureWarning)\n",
      "/Users/andreanavarrete/.pyenv/versions/3.6.0/lib/python3.6/site-packages/sklearn/ensemble/forest.py:246: FutureWarning: The default value of n_estimators will change from 10 in version 0.20 to 100 in 0.22.\n",
      "  \"10 in version 0.20 to 100 in 0.22.\", FutureWarning)\n",
      "/Users/andreanavarrete/.pyenv/versions/3.6.0/lib/python3.6/site-packages/sklearn/ensemble/forest.py:246: FutureWarning: The default value of n_estimators will change from 10 in version 0.20 to 100 in 0.22.\n",
      "  \"10 in version 0.20 to 100 in 0.22.\", FutureWarning)\n",
      "/Users/andreanavarrete/.pyenv/versions/3.6.0/lib/python3.6/site-packages/sklearn/ensemble/forest.py:246: FutureWarning: The default value of n_estimators will change from 10 in version 0.20 to 100 in 0.22.\n",
      "  \"10 in version 0.20 to 100 in 0.22.\", FutureWarning)\n"
     ]
    },
    {
     "name": "stderr",
     "output_type": "stream",
     "text": [
      "/Users/andreanavarrete/.pyenv/versions/3.6.0/lib/python3.6/site-packages/sklearn/ensemble/forest.py:246: FutureWarning: The default value of n_estimators will change from 10 in version 0.20 to 100 in 0.22.\n",
      "  \"10 in version 0.20 to 100 in 0.22.\", FutureWarning)\n",
      "/Users/andreanavarrete/.pyenv/versions/3.6.0/lib/python3.6/site-packages/sklearn/ensemble/forest.py:246: FutureWarning: The default value of n_estimators will change from 10 in version 0.20 to 100 in 0.22.\n",
      "  \"10 in version 0.20 to 100 in 0.22.\", FutureWarning)\n",
      "/Users/andreanavarrete/.pyenv/versions/3.6.0/lib/python3.6/site-packages/sklearn/ensemble/forest.py:246: FutureWarning: The default value of n_estimators will change from 10 in version 0.20 to 100 in 0.22.\n",
      "  \"10 in version 0.20 to 100 in 0.22.\", FutureWarning)\n",
      "/Users/andreanavarrete/.pyenv/versions/3.6.0/lib/python3.6/site-packages/sklearn/ensemble/forest.py:246: FutureWarning: The default value of n_estimators will change from 10 in version 0.20 to 100 in 0.22.\n",
      "  \"10 in version 0.20 to 100 in 0.22.\", FutureWarning)\n",
      "/Users/andreanavarrete/.pyenv/versions/3.6.0/lib/python3.6/site-packages/sklearn/ensemble/forest.py:246: FutureWarning: The default value of n_estimators will change from 10 in version 0.20 to 100 in 0.22.\n",
      "  \"10 in version 0.20 to 100 in 0.22.\", FutureWarning)\n",
      "/Users/andreanavarrete/.pyenv/versions/3.6.0/lib/python3.6/site-packages/sklearn/ensemble/forest.py:246: FutureWarning: The default value of n_estimators will change from 10 in version 0.20 to 100 in 0.22.\n",
      "  \"10 in version 0.20 to 100 in 0.22.\", FutureWarning)\n",
      "/Users/andreanavarrete/.pyenv/versions/3.6.0/lib/python3.6/site-packages/sklearn/ensemble/forest.py:246: FutureWarning: The default value of n_estimators will change from 10 in version 0.20 to 100 in 0.22.\n",
      "  \"10 in version 0.20 to 100 in 0.22.\", FutureWarning)\n",
      "/Users/andreanavarrete/.pyenv/versions/3.6.0/lib/python3.6/site-packages/sklearn/ensemble/forest.py:246: FutureWarning: The default value of n_estimators will change from 10 in version 0.20 to 100 in 0.22.\n",
      "  \"10 in version 0.20 to 100 in 0.22.\", FutureWarning)\n",
      "/Users/andreanavarrete/.pyenv/versions/3.6.0/lib/python3.6/site-packages/sklearn/ensemble/forest.py:246: FutureWarning: The default value of n_estimators will change from 10 in version 0.20 to 100 in 0.22.\n",
      "  \"10 in version 0.20 to 100 in 0.22.\", FutureWarning)\n",
      "/Users/andreanavarrete/.pyenv/versions/3.6.0/lib/python3.6/site-packages/sklearn/ensemble/forest.py:246: FutureWarning: The default value of n_estimators will change from 10 in version 0.20 to 100 in 0.22.\n",
      "  \"10 in version 0.20 to 100 in 0.22.\", FutureWarning)\n",
      "/Users/andreanavarrete/.pyenv/versions/3.6.0/lib/python3.6/site-packages/sklearn/ensemble/forest.py:246: FutureWarning: The default value of n_estimators will change from 10 in version 0.20 to 100 in 0.22.\n",
      "  \"10 in version 0.20 to 100 in 0.22.\", FutureWarning)\n",
      "/Users/andreanavarrete/.pyenv/versions/3.6.0/lib/python3.6/site-packages/sklearn/ensemble/forest.py:246: FutureWarning: The default value of n_estimators will change from 10 in version 0.20 to 100 in 0.22.\n",
      "  \"10 in version 0.20 to 100 in 0.22.\", FutureWarning)\n",
      "/Users/andreanavarrete/.pyenv/versions/3.6.0/lib/python3.6/site-packages/sklearn/ensemble/forest.py:246: FutureWarning: The default value of n_estimators will change from 10 in version 0.20 to 100 in 0.22.\n",
      "  \"10 in version 0.20 to 100 in 0.22.\", FutureWarning)\n",
      "/Users/andreanavarrete/.pyenv/versions/3.6.0/lib/python3.6/site-packages/sklearn/ensemble/forest.py:246: FutureWarning: The default value of n_estimators will change from 10 in version 0.20 to 100 in 0.22.\n",
      "  \"10 in version 0.20 to 100 in 0.22.\", FutureWarning)\n",
      "/Users/andreanavarrete/.pyenv/versions/3.6.0/lib/python3.6/site-packages/sklearn/ensemble/forest.py:246: FutureWarning: The default value of n_estimators will change from 10 in version 0.20 to 100 in 0.22.\n",
      "  \"10 in version 0.20 to 100 in 0.22.\", FutureWarning)\n",
      "/Users/andreanavarrete/.pyenv/versions/3.6.0/lib/python3.6/site-packages/sklearn/ensemble/forest.py:246: FutureWarning: The default value of n_estimators will change from 10 in version 0.20 to 100 in 0.22.\n",
      "  \"10 in version 0.20 to 100 in 0.22.\", FutureWarning)\n",
      "/Users/andreanavarrete/.pyenv/versions/3.6.0/lib/python3.6/site-packages/sklearn/ensemble/forest.py:246: FutureWarning: The default value of n_estimators will change from 10 in version 0.20 to 100 in 0.22.\n",
      "  \"10 in version 0.20 to 100 in 0.22.\", FutureWarning)\n",
      "/Users/andreanavarrete/.pyenv/versions/3.6.0/lib/python3.6/site-packages/sklearn/ensemble/forest.py:246: FutureWarning: The default value of n_estimators will change from 10 in version 0.20 to 100 in 0.22.\n",
      "  \"10 in version 0.20 to 100 in 0.22.\", FutureWarning)\n",
      "/Users/andreanavarrete/.pyenv/versions/3.6.0/lib/python3.6/site-packages/sklearn/ensemble/forest.py:246: FutureWarning: The default value of n_estimators will change from 10 in version 0.20 to 100 in 0.22.\n",
      "  \"10 in version 0.20 to 100 in 0.22.\", FutureWarning)\n"
     ]
    },
    {
     "data": {
      "text/plain": [
       "GridSearchCV(cv=5, error_score='raise-deprecating',\n",
       "       estimator=Pipeline(memory=None,\n",
       "     steps=[('pre', ColumnTransformer(n_jobs=None, remainder='passthrough', sparse_threshold=0.3,\n",
       "         transformer_weights=None,\n",
       "         transformers=[('tfidfvectorizer', TfidfVectorizer(analyzer='char_wb', binary=False, decode_error='strict',\n",
       "        dtype=<class 'numpy.float64'>, encoding='utf-8',...tors='warn', n_jobs=None,\n",
       "            oob_score=False, random_state=0, verbose=0, warm_start=True))]),\n",
       "       fit_params=None, iid='warn', n_jobs=None,\n",
       "       param_grid={'clf__max_leaf_nodes': range(5, 50, 10), 'pre__tfidfvectorizer__ngram_range': [(2, 4), (3, 6)]},\n",
       "       pre_dispatch='2*n_jobs', refit=True, return_train_score='warn',\n",
       "       scoring='roc_auc', verbose=0)"
      ]
     },
     "execution_count": 82,
     "metadata": {},
     "output_type": "execute_result"
    }
   ],
   "source": [
    "np.random.seed(2019)\n",
    "param_grid_features = {'clf__max_leaf_nodes':range(5, 50, 10),\n",
    "                       \"pre__tfidfvectorizer__ngram_range\": [(2, 4), (3, 6)]}\n",
    "\n",
    "preprocess = make_column_transformer(\n",
    "            (TfidfVectorizer(analyzer=\"char_wb\", min_df=4), 'tweet_text'),\n",
    "                                     remainder='passthrough')\n",
    "pipe_features = Pipeline([('pre', preprocess),\n",
    "                 ('clf', RandomForestClassifier(warm_start=True, random_state=0))])\n",
    "grid_features = GridSearchCV(pipe_features, \n",
    "                             param_grid=param_grid_features, \n",
    "                             cv=5, scoring=\"roc_auc\")\n",
    "grid_features.fit(X_train, y_train)"
   ]
  },
  {
   "cell_type": "code",
   "execution_count": 83,
   "metadata": {},
   "outputs": [
    {
     "data": {
      "text/plain": [
       "{'clf__max_leaf_nodes': 45, 'pre__tfidfvectorizer__ngram_range': (3, 6)}"
      ]
     },
     "execution_count": 83,
     "metadata": {},
     "output_type": "execute_result"
    }
   ],
   "source": [
    "grid_features.best_params_"
   ]
  },
  {
   "cell_type": "code",
   "execution_count": 84,
   "metadata": {},
   "outputs": [
    {
     "data": {
      "text/plain": [
       "0.7678059511679496"
      ]
     },
     "execution_count": 84,
     "metadata": {},
     "output_type": "execute_result"
    }
   ],
   "source": [
    "np.mean(grid_features.cv_results_['mean_test_score'])"
   ]
  },
  {
   "cell_type": "code",
   "execution_count": 85,
   "metadata": {},
   "outputs": [
    {
     "data": {
      "text/plain": [
       "0.8186840286736354"
      ]
     },
     "execution_count": 85,
     "metadata": {},
     "output_type": "execute_result"
    }
   ],
   "source": [
    "grid_features.score(X_test, y_test)"
   ]
  },
  {
   "cell_type": "markdown",
   "metadata": {},
   "source": [
    "## All Features"
   ]
  },
  {
   "cell_type": "code",
   "execution_count": 94,
   "metadata": {},
   "outputs": [
    {
     "name": "stdout",
     "output_type": "stream",
     "text": [
      "Number of train tweets 37500\n",
      "Number of test tweets 12500\n",
      "% of class 1 train 0.3871733333333333\n",
      "% of class 1 test 0.38704\n"
     ]
    }
   ],
   "source": [
    "text_features = ['tweet_text', 'tweet_length', 'num_sentences', \n",
    "                 'num_hashtags', 'num_tags', 'with_html',\n",
    "                 'percentage_capital', 'num_exclamation', 'num_questions']\n",
    "\n",
    "tweet_features = ['tweet_hashtag', 'retweet', 'retweet_count',\n",
    "                  'user_verified', 'user_followers_count', \n",
    "                  'user_statuses_count', 'user_friends_count',\n",
    "                  'user_favourites_count', 'tweet_relative_age']\n",
    "\n",
    "all_features = text_features + tweet_features\n",
    "# Split data train / test\n",
    "X = tweets[all_features]\n",
    "y = tweets['is_fake']\n",
    "\n",
    "X_train, X_test, y_train, y_test = train_test_split(X, y, random_state=0, shuffle=True)\n",
    "print(\"Number of train tweets\", len(X_train))\n",
    "print(\"Number of test tweets\",len(X_test))\n",
    "\n",
    "# check balances\n",
    "print(\"% of class 1 train\", len(y_train[y_train == 1]) / len(y_train))\n",
    "print(\"% of class 1 test\", len(y_test[y_test == 1]) / len(y_test))"
   ]
  },
  {
   "cell_type": "code",
   "execution_count": 97,
   "metadata": {},
   "outputs": [
    {
     "data": {
      "text/html": [
       "<div>\n",
       "<style scoped>\n",
       "    .dataframe tbody tr th:only-of-type {\n",
       "        vertical-align: middle;\n",
       "    }\n",
       "\n",
       "    .dataframe tbody tr th {\n",
       "        vertical-align: top;\n",
       "    }\n",
       "\n",
       "    .dataframe thead th {\n",
       "        text-align: right;\n",
       "    }\n",
       "</style>\n",
       "<table border=\"1\" class=\"dataframe\">\n",
       "  <thead>\n",
       "    <tr style=\"text-align: right;\">\n",
       "      <th></th>\n",
       "      <th>tweet_text</th>\n",
       "      <th>tweet_length</th>\n",
       "      <th>num_sentences</th>\n",
       "      <th>num_hashtags</th>\n",
       "      <th>num_tags</th>\n",
       "      <th>with_html</th>\n",
       "      <th>percentage_capital</th>\n",
       "      <th>num_exclamation</th>\n",
       "      <th>num_questions</th>\n",
       "      <th>tweet_hashtag</th>\n",
       "      <th>retweet</th>\n",
       "      <th>retweet_count</th>\n",
       "      <th>user_verified</th>\n",
       "      <th>user_followers_count</th>\n",
       "      <th>user_statuses_count</th>\n",
       "      <th>user_friends_count</th>\n",
       "      <th>user_favourites_count</th>\n",
       "      <th>tweet_relative_age</th>\n",
       "    </tr>\n",
       "  </thead>\n",
       "  <tbody>\n",
       "    <tr>\n",
       "      <th>39758</th>\n",
       "      <td>@DAJSamarasinghe @FamousRob @nicchristensen Ye...</td>\n",
       "      <td>81</td>\n",
       "      <td>2</td>\n",
       "      <td>0</td>\n",
       "      <td>0</td>\n",
       "      <td>0</td>\n",
       "      <td>0.142857</td>\n",
       "      <td>0</td>\n",
       "      <td>0</td>\n",
       "      <td>sydneysiege</td>\n",
       "      <td>False</td>\n",
       "      <td>1</td>\n",
       "      <td>False</td>\n",
       "      <td>792</td>\n",
       "      <td>23494</td>\n",
       "      <td>1055</td>\n",
       "      <td>1239</td>\n",
       "      <td>1</td>\n",
       "    </tr>\n",
       "    <tr>\n",
       "      <th>18457</th>\n",
       "      <td>@dougom Conservatives are profoundly sick of R...</td>\n",
       "      <td>77</td>\n",
       "      <td>1</td>\n",
       "      <td>0</td>\n",
       "      <td>0</td>\n",
       "      <td>0</td>\n",
       "      <td>0.031746</td>\n",
       "      <td>0</td>\n",
       "      <td>0</td>\n",
       "      <td>sydneysiege</td>\n",
       "      <td>False</td>\n",
       "      <td>0</td>\n",
       "      <td>False</td>\n",
       "      <td>16019</td>\n",
       "      <td>251219</td>\n",
       "      <td>2656</td>\n",
       "      <td>84337</td>\n",
       "      <td>11</td>\n",
       "    </tr>\n",
       "    <tr>\n",
       "      <th>33239</th>\n",
       "      <td>@ramblesofpower It's not \"islamophobia\" it's \"...</td>\n",
       "      <td>126</td>\n",
       "      <td>2</td>\n",
       "      <td>0</td>\n",
       "      <td>0</td>\n",
       "      <td>0</td>\n",
       "      <td>0.031746</td>\n",
       "      <td>0</td>\n",
       "      <td>0</td>\n",
       "      <td>sydneysiege</td>\n",
       "      <td>False</td>\n",
       "      <td>1</td>\n",
       "      <td>False</td>\n",
       "      <td>3157</td>\n",
       "      <td>19659</td>\n",
       "      <td>2995</td>\n",
       "      <td>8230</td>\n",
       "      <td>11</td>\n",
       "    </tr>\n",
       "    <tr>\n",
       "      <th>35006</th>\n",
       "      <td>@KyaYaarKuchBi @MariamVeiszadeh \\nI am sorry, ...</td>\n",
       "      <td>127</td>\n",
       "      <td>1</td>\n",
       "      <td>0</td>\n",
       "      <td>0</td>\n",
       "      <td>0</td>\n",
       "      <td>0.126984</td>\n",
       "      <td>0</td>\n",
       "      <td>0</td>\n",
       "      <td>sydneysiege</td>\n",
       "      <td>False</td>\n",
       "      <td>1</td>\n",
       "      <td>False</td>\n",
       "      <td>192</td>\n",
       "      <td>6652</td>\n",
       "      <td>479</td>\n",
       "      <td>122</td>\n",
       "      <td>5</td>\n",
       "    </tr>\n",
       "    <tr>\n",
       "      <th>30982</th>\n",
       "      <td>@DailyMailAU @joeleigh41 \\n the BBC translated...</td>\n",
       "      <td>118</td>\n",
       "      <td>2</td>\n",
       "      <td>0</td>\n",
       "      <td>0</td>\n",
       "      <td>0</td>\n",
       "      <td>0.317460</td>\n",
       "      <td>1</td>\n",
       "      <td>0</td>\n",
       "      <td>sydneysiege</td>\n",
       "      <td>False</td>\n",
       "      <td>0</td>\n",
       "      <td>False</td>\n",
       "      <td>1588</td>\n",
       "      <td>55787</td>\n",
       "      <td>1818</td>\n",
       "      <td>34</td>\n",
       "      <td>0</td>\n",
       "    </tr>\n",
       "  </tbody>\n",
       "</table>\n",
       "</div>"
      ],
      "text/plain": [
       "                                              tweet_text  tweet_length  \\\n",
       "39758  @DAJSamarasinghe @FamousRob @nicchristensen Ye...            81   \n",
       "18457  @dougom Conservatives are profoundly sick of R...            77   \n",
       "33239  @ramblesofpower It's not \"islamophobia\" it's \"...           126   \n",
       "35006  @KyaYaarKuchBi @MariamVeiszadeh \\nI am sorry, ...           127   \n",
       "30982  @DailyMailAU @joeleigh41 \\n the BBC translated...           118   \n",
       "\n",
       "       num_sentences  num_hashtags  num_tags  with_html  percentage_capital  \\\n",
       "39758              2             0         0          0            0.142857   \n",
       "18457              1             0         0          0            0.031746   \n",
       "33239              2             0         0          0            0.031746   \n",
       "35006              1             0         0          0            0.126984   \n",
       "30982              2             0         0          0            0.317460   \n",
       "\n",
       "       num_exclamation  num_questions tweet_hashtag  retweet  retweet_count  \\\n",
       "39758                0              0   sydneysiege    False              1   \n",
       "18457                0              0   sydneysiege    False              0   \n",
       "33239                0              0   sydneysiege    False              1   \n",
       "35006                0              0   sydneysiege    False              1   \n",
       "30982                1              0   sydneysiege    False              0   \n",
       "\n",
       "       user_verified  user_followers_count  user_statuses_count  \\\n",
       "39758          False                   792                23494   \n",
       "18457          False                 16019               251219   \n",
       "33239          False                  3157                19659   \n",
       "35006          False                   192                 6652   \n",
       "30982          False                  1588                55787   \n",
       "\n",
       "       user_friends_count  user_favourites_count  tweet_relative_age  \n",
       "39758                1055                   1239                   1  \n",
       "18457                2656                  84337                  11  \n",
       "33239                2995                   8230                  11  \n",
       "35006                 479                    122                   5  \n",
       "30982                1818                     34                   0  "
      ]
     },
     "execution_count": 97,
     "metadata": {},
     "output_type": "execute_result"
    }
   ],
   "source": [
    "X_train.head()"
   ]
  },
  {
   "cell_type": "code",
   "execution_count": 101,
   "metadata": {},
   "outputs": [
    {
     "name": "stderr",
     "output_type": "stream",
     "text": [
      "/Users/andreanavarrete/.pyenv/versions/3.6.0/lib/python3.6/site-packages/sklearn/preprocessing/data.py:625: DataConversionWarning: Data with input dtype int64, float64 were all converted to float64 by StandardScaler.\n",
      "  return self.partial_fit(X, y)\n",
      "/Users/andreanavarrete/.pyenv/versions/3.6.0/lib/python3.6/site-packages/sklearn/base.py:465: DataConversionWarning: Data with input dtype int64, float64 were all converted to float64 by StandardScaler.\n",
      "  return self.fit(X, y, **fit_params).transform(X)\n",
      "/Users/andreanavarrete/.pyenv/versions/3.6.0/lib/python3.6/site-packages/sklearn/svm/base.py:931: ConvergenceWarning: Liblinear failed to converge, increase the number of iterations.\n",
      "  \"the number of iterations.\", ConvergenceWarning)\n",
      "/Users/andreanavarrete/.pyenv/versions/3.6.0/lib/python3.6/site-packages/sklearn/pipeline.py:605: DataConversionWarning: Data with input dtype int64, float64 were all converted to float64 by StandardScaler.\n",
      "  res = transformer.transform(X)\n",
      "/Users/andreanavarrete/.pyenv/versions/3.6.0/lib/python3.6/site-packages/sklearn/pipeline.py:605: DataConversionWarning: Data with input dtype int64, float64 were all converted to float64 by StandardScaler.\n",
      "  res = transformer.transform(X)\n",
      "/Users/andreanavarrete/.pyenv/versions/3.6.0/lib/python3.6/site-packages/sklearn/preprocessing/data.py:625: DataConversionWarning: Data with input dtype int64, float64 were all converted to float64 by StandardScaler.\n",
      "  return self.partial_fit(X, y)\n",
      "/Users/andreanavarrete/.pyenv/versions/3.6.0/lib/python3.6/site-packages/sklearn/base.py:465: DataConversionWarning: Data with input dtype int64, float64 were all converted to float64 by StandardScaler.\n",
      "  return self.fit(X, y, **fit_params).transform(X)\n",
      "/Users/andreanavarrete/.pyenv/versions/3.6.0/lib/python3.6/site-packages/sklearn/svm/base.py:931: ConvergenceWarning: Liblinear failed to converge, increase the number of iterations.\n",
      "  \"the number of iterations.\", ConvergenceWarning)\n",
      "/Users/andreanavarrete/.pyenv/versions/3.6.0/lib/python3.6/site-packages/sklearn/pipeline.py:605: DataConversionWarning: Data with input dtype int64, float64 were all converted to float64 by StandardScaler.\n",
      "  res = transformer.transform(X)\n",
      "/Users/andreanavarrete/.pyenv/versions/3.6.0/lib/python3.6/site-packages/sklearn/pipeline.py:605: DataConversionWarning: Data with input dtype int64, float64 were all converted to float64 by StandardScaler.\n",
      "  res = transformer.transform(X)\n",
      "/Users/andreanavarrete/.pyenv/versions/3.6.0/lib/python3.6/site-packages/sklearn/preprocessing/data.py:625: DataConversionWarning: Data with input dtype int64, float64 were all converted to float64 by StandardScaler.\n",
      "  return self.partial_fit(X, y)\n",
      "/Users/andreanavarrete/.pyenv/versions/3.6.0/lib/python3.6/site-packages/sklearn/base.py:465: DataConversionWarning: Data with input dtype int64, float64 were all converted to float64 by StandardScaler.\n",
      "  return self.fit(X, y, **fit_params).transform(X)\n",
      "/Users/andreanavarrete/.pyenv/versions/3.6.0/lib/python3.6/site-packages/sklearn/pipeline.py:605: DataConversionWarning: Data with input dtype int64, float64 were all converted to float64 by StandardScaler.\n",
      "  res = transformer.transform(X)\n",
      "/Users/andreanavarrete/.pyenv/versions/3.6.0/lib/python3.6/site-packages/sklearn/pipeline.py:605: DataConversionWarning: Data with input dtype int64, float64 were all converted to float64 by StandardScaler.\n",
      "  res = transformer.transform(X)\n",
      "/Users/andreanavarrete/.pyenv/versions/3.6.0/lib/python3.6/site-packages/sklearn/preprocessing/data.py:625: DataConversionWarning: Data with input dtype int64, float64 were all converted to float64 by StandardScaler.\n",
      "  return self.partial_fit(X, y)\n",
      "/Users/andreanavarrete/.pyenv/versions/3.6.0/lib/python3.6/site-packages/sklearn/base.py:465: DataConversionWarning: Data with input dtype int64, float64 were all converted to float64 by StandardScaler.\n",
      "  return self.fit(X, y, **fit_params).transform(X)\n",
      "/Users/andreanavarrete/.pyenv/versions/3.6.0/lib/python3.6/site-packages/sklearn/svm/base.py:931: ConvergenceWarning: Liblinear failed to converge, increase the number of iterations.\n",
      "  \"the number of iterations.\", ConvergenceWarning)\n",
      "/Users/andreanavarrete/.pyenv/versions/3.6.0/lib/python3.6/site-packages/sklearn/pipeline.py:605: DataConversionWarning: Data with input dtype int64, float64 were all converted to float64 by StandardScaler.\n",
      "  res = transformer.transform(X)\n",
      "/Users/andreanavarrete/.pyenv/versions/3.6.0/lib/python3.6/site-packages/sklearn/pipeline.py:605: DataConversionWarning: Data with input dtype int64, float64 were all converted to float64 by StandardScaler.\n",
      "  res = transformer.transform(X)\n",
      "/Users/andreanavarrete/.pyenv/versions/3.6.0/lib/python3.6/site-packages/sklearn/preprocessing/data.py:625: DataConversionWarning: Data with input dtype int64, float64 were all converted to float64 by StandardScaler.\n",
      "  return self.partial_fit(X, y)\n",
      "/Users/andreanavarrete/.pyenv/versions/3.6.0/lib/python3.6/site-packages/sklearn/base.py:465: DataConversionWarning: Data with input dtype int64, float64 were all converted to float64 by StandardScaler.\n",
      "  return self.fit(X, y, **fit_params).transform(X)\n",
      "/Users/andreanavarrete/.pyenv/versions/3.6.0/lib/python3.6/site-packages/sklearn/svm/base.py:931: ConvergenceWarning: Liblinear failed to converge, increase the number of iterations.\n",
      "  \"the number of iterations.\", ConvergenceWarning)\n",
      "/Users/andreanavarrete/.pyenv/versions/3.6.0/lib/python3.6/site-packages/sklearn/pipeline.py:605: DataConversionWarning: Data with input dtype int64, float64 were all converted to float64 by StandardScaler.\n",
      "  res = transformer.transform(X)\n",
      "/Users/andreanavarrete/.pyenv/versions/3.6.0/lib/python3.6/site-packages/sklearn/pipeline.py:605: DataConversionWarning: Data with input dtype int64, float64 were all converted to float64 by StandardScaler.\n",
      "  res = transformer.transform(X)\n",
      "/Users/andreanavarrete/.pyenv/versions/3.6.0/lib/python3.6/site-packages/sklearn/preprocessing/data.py:625: DataConversionWarning: Data with input dtype int64, float64 were all converted to float64 by StandardScaler.\n",
      "  return self.partial_fit(X, y)\n",
      "/Users/andreanavarrete/.pyenv/versions/3.6.0/lib/python3.6/site-packages/sklearn/base.py:465: DataConversionWarning: Data with input dtype int64, float64 were all converted to float64 by StandardScaler.\n",
      "  return self.fit(X, y, **fit_params).transform(X)\n",
      "/Users/andreanavarrete/.pyenv/versions/3.6.0/lib/python3.6/site-packages/sklearn/pipeline.py:605: DataConversionWarning: Data with input dtype int64, float64 were all converted to float64 by StandardScaler.\n",
      "  res = transformer.transform(X)\n",
      "/Users/andreanavarrete/.pyenv/versions/3.6.0/lib/python3.6/site-packages/sklearn/pipeline.py:605: DataConversionWarning: Data with input dtype int64, float64 were all converted to float64 by StandardScaler.\n",
      "  res = transformer.transform(X)\n",
      "/Users/andreanavarrete/.pyenv/versions/3.6.0/lib/python3.6/site-packages/sklearn/preprocessing/data.py:625: DataConversionWarning: Data with input dtype int64, float64 were all converted to float64 by StandardScaler.\n",
      "  return self.partial_fit(X, y)\n",
      "/Users/andreanavarrete/.pyenv/versions/3.6.0/lib/python3.6/site-packages/sklearn/base.py:465: DataConversionWarning: Data with input dtype int64, float64 were all converted to float64 by StandardScaler.\n",
      "  return self.fit(X, y, **fit_params).transform(X)\n",
      "/Users/andreanavarrete/.pyenv/versions/3.6.0/lib/python3.6/site-packages/sklearn/pipeline.py:605: DataConversionWarning: Data with input dtype int64, float64 were all converted to float64 by StandardScaler.\n",
      "  res = transformer.transform(X)\n",
      "/Users/andreanavarrete/.pyenv/versions/3.6.0/lib/python3.6/site-packages/sklearn/pipeline.py:605: DataConversionWarning: Data with input dtype int64, float64 were all converted to float64 by StandardScaler.\n",
      "  res = transformer.transform(X)\n",
      "/Users/andreanavarrete/.pyenv/versions/3.6.0/lib/python3.6/site-packages/sklearn/preprocessing/data.py:625: DataConversionWarning: Data with input dtype int64, float64 were all converted to float64 by StandardScaler.\n",
      "  return self.partial_fit(X, y)\n",
      "/Users/andreanavarrete/.pyenv/versions/3.6.0/lib/python3.6/site-packages/sklearn/base.py:465: DataConversionWarning: Data with input dtype int64, float64 were all converted to float64 by StandardScaler.\n",
      "  return self.fit(X, y, **fit_params).transform(X)\n"
     ]
    },
    {
     "name": "stderr",
     "output_type": "stream",
     "text": [
      "/Users/andreanavarrete/.pyenv/versions/3.6.0/lib/python3.6/site-packages/sklearn/svm/base.py:931: ConvergenceWarning: Liblinear failed to converge, increase the number of iterations.\n",
      "  \"the number of iterations.\", ConvergenceWarning)\n",
      "/Users/andreanavarrete/.pyenv/versions/3.6.0/lib/python3.6/site-packages/sklearn/pipeline.py:605: DataConversionWarning: Data with input dtype int64, float64 were all converted to float64 by StandardScaler.\n",
      "  res = transformer.transform(X)\n",
      "/Users/andreanavarrete/.pyenv/versions/3.6.0/lib/python3.6/site-packages/sklearn/pipeline.py:605: DataConversionWarning: Data with input dtype int64, float64 were all converted to float64 by StandardScaler.\n",
      "  res = transformer.transform(X)\n",
      "/Users/andreanavarrete/.pyenv/versions/3.6.0/lib/python3.6/site-packages/sklearn/preprocessing/data.py:625: DataConversionWarning: Data with input dtype int64, float64 were all converted to float64 by StandardScaler.\n",
      "  return self.partial_fit(X, y)\n",
      "/Users/andreanavarrete/.pyenv/versions/3.6.0/lib/python3.6/site-packages/sklearn/base.py:465: DataConversionWarning: Data with input dtype int64, float64 were all converted to float64 by StandardScaler.\n",
      "  return self.fit(X, y, **fit_params).transform(X)\n",
      "/Users/andreanavarrete/.pyenv/versions/3.6.0/lib/python3.6/site-packages/sklearn/svm/base.py:931: ConvergenceWarning: Liblinear failed to converge, increase the number of iterations.\n",
      "  \"the number of iterations.\", ConvergenceWarning)\n",
      "/Users/andreanavarrete/.pyenv/versions/3.6.0/lib/python3.6/site-packages/sklearn/pipeline.py:605: DataConversionWarning: Data with input dtype int64, float64 were all converted to float64 by StandardScaler.\n",
      "  res = transformer.transform(X)\n",
      "/Users/andreanavarrete/.pyenv/versions/3.6.0/lib/python3.6/site-packages/sklearn/pipeline.py:605: DataConversionWarning: Data with input dtype int64, float64 were all converted to float64 by StandardScaler.\n",
      "  res = transformer.transform(X)\n",
      "/Users/andreanavarrete/.pyenv/versions/3.6.0/lib/python3.6/site-packages/sklearn/preprocessing/data.py:625: DataConversionWarning: Data with input dtype int64, float64 were all converted to float64 by StandardScaler.\n",
      "  return self.partial_fit(X, y)\n",
      "/Users/andreanavarrete/.pyenv/versions/3.6.0/lib/python3.6/site-packages/sklearn/base.py:465: DataConversionWarning: Data with input dtype int64, float64 were all converted to float64 by StandardScaler.\n",
      "  return self.fit(X, y, **fit_params).transform(X)\n",
      "/Users/andreanavarrete/.pyenv/versions/3.6.0/lib/python3.6/site-packages/sklearn/svm/base.py:931: ConvergenceWarning: Liblinear failed to converge, increase the number of iterations.\n",
      "  \"the number of iterations.\", ConvergenceWarning)\n",
      "/Users/andreanavarrete/.pyenv/versions/3.6.0/lib/python3.6/site-packages/sklearn/pipeline.py:605: DataConversionWarning: Data with input dtype int64, float64 were all converted to float64 by StandardScaler.\n",
      "  res = transformer.transform(X)\n",
      "/Users/andreanavarrete/.pyenv/versions/3.6.0/lib/python3.6/site-packages/sklearn/pipeline.py:605: DataConversionWarning: Data with input dtype int64, float64 were all converted to float64 by StandardScaler.\n",
      "  res = transformer.transform(X)\n",
      "/Users/andreanavarrete/.pyenv/versions/3.6.0/lib/python3.6/site-packages/sklearn/preprocessing/data.py:625: DataConversionWarning: Data with input dtype int64, float64 were all converted to float64 by StandardScaler.\n",
      "  return self.partial_fit(X, y)\n",
      "/Users/andreanavarrete/.pyenv/versions/3.6.0/lib/python3.6/site-packages/sklearn/base.py:465: DataConversionWarning: Data with input dtype int64, float64 were all converted to float64 by StandardScaler.\n",
      "  return self.fit(X, y, **fit_params).transform(X)\n",
      "/Users/andreanavarrete/.pyenv/versions/3.6.0/lib/python3.6/site-packages/sklearn/svm/base.py:931: ConvergenceWarning: Liblinear failed to converge, increase the number of iterations.\n",
      "  \"the number of iterations.\", ConvergenceWarning)\n"
     ]
    },
    {
     "data": {
      "text/plain": [
       "GridSearchCV(cv=5, error_score='raise-deprecating',\n",
       "       estimator=Pipeline(memory=None,\n",
       "     steps=[('pre', ColumnTransformer(n_jobs=None, remainder='passthrough', sparse_threshold=0.3,\n",
       "         transformer_weights=None,\n",
       "         transformers=[('tfidfvectorizer', TfidfVectorizer(analyzer='char_wb', binary=False, decode_error='strict',\n",
       "        dtype=<class 'numpy.float64'>, encoding='utf-8',...ty='l2', random_state=None, solver='liblinear',\n",
       "          tol=0.0001, verbose=0, warm_start=False))]),\n",
       "       fit_params=None, iid='warn', n_jobs=None,\n",
       "       param_grid={'clf__C': [10], 'pre__tfidfvectorizer__ngram_range': [(2, 4), (3, 6)]},\n",
       "       pre_dispatch='2*n_jobs', refit=True, return_train_score='warn',\n",
       "       scoring='roc_auc', verbose=0)"
      ]
     },
     "execution_count": 101,
     "metadata": {},
     "output_type": "execute_result"
    }
   ],
   "source": [
    "np.random.seed(2019)\n",
    "\n",
    "numeric_cols = X_train.select_dtypes(include=[np.number]).columns.tolist()\n",
    "param_grid_features = {\"clf__C\": [10], #np.logspace(-1,1,3),\n",
    "                       \"pre__tfidfvectorizer__ngram_range\": [(2, 4), (3, 6)]}\n",
    "pipe_vec = make_pipeline(TfidfVectorizer())\n",
    "\n",
    "preprocess = make_column_transformer(\n",
    "            (TfidfVectorizer(analyzer=\"char_wb\", min_df=4), 'tweet_text'),\n",
    "            (StandardScaler(), numeric_cols),\n",
    "            (OneHotEncoder(handle_unknown='ignore'), ['tweet_hashtag']),\n",
    "                                     remainder='passthrough')\n",
    "pipe_features = Pipeline([('pre', preprocess),\n",
    "                 ('clf', LogisticRegression(solver='liblinear'))])\n",
    "grid_features = GridSearchCV(pipe_features, \n",
    "                             param_grid=param_grid_features, \n",
    "                             cv=5, scoring=\"roc_auc\")\n",
    "grid_features.fit(X_train, y_train)"
   ]
  },
  {
   "cell_type": "code",
   "execution_count": 102,
   "metadata": {},
   "outputs": [
    {
     "data": {
      "text/plain": [
       "{'clf__C': 10, 'pre__tfidfvectorizer__ngram_range': (3, 6)}"
      ]
     },
     "execution_count": 102,
     "metadata": {},
     "output_type": "execute_result"
    }
   ],
   "source": [
    "grid_features.best_params_"
   ]
  },
  {
   "cell_type": "code",
   "execution_count": 103,
   "metadata": {},
   "outputs": [
    {
     "data": {
      "text/plain": [
       "0.9697471331269765"
      ]
     },
     "execution_count": 103,
     "metadata": {},
     "output_type": "execute_result"
    }
   ],
   "source": [
    "np.mean(grid_features.cv_results_['mean_test_score'])"
   ]
  },
  {
   "cell_type": "code",
   "execution_count": 104,
   "metadata": {},
   "outputs": [
    {
     "name": "stderr",
     "output_type": "stream",
     "text": [
      "/Users/andreanavarrete/.pyenv/versions/3.6.0/lib/python3.6/site-packages/sklearn/pipeline.py:605: DataConversionWarning: Data with input dtype int64, float64 were all converted to float64 by StandardScaler.\n",
      "  res = transformer.transform(X)\n"
     ]
    },
    {
     "data": {
      "text/plain": [
       "0.9743199097374619"
      ]
     },
     "execution_count": 104,
     "metadata": {},
     "output_type": "execute_result"
    }
   ],
   "source": [
    "grid_features.score(X_test, y_test)"
   ]
  },
  {
   "cell_type": "code",
   "execution_count": 128,
   "metadata": {},
   "outputs": [
    {
     "data": {
      "image/png": "[encoded data removed]",
      "text/plain": [
       "<Figure size 1224x504 with 1 Axes>"
      ]
     },
     "metadata": {},
     "output_type": "display_data"
    }
   ],
   "source": [
    "voc_char_features = grid_features.best_estimator_.named_steps['pre']. \\\n",
    "                        named_transformers_['tfidfvectorizer'].vocabulary_.copy()\n",
    "numeric_features = {x:i+len(voc_char_features) \n",
    "                  for i,x in enumerate(numeric_cols)}\n",
    "voc_char_features.update(numeric_features)\n",
    "\n",
    "onehot = list(grid_features.best_estimator_.named_steps['pre']. \\\n",
    "                named_transformers_['onehotencoder'].get_feature_names())\n",
    "onehot_features = {x:i+len(voc_char_features) \n",
    "                  for i,x in enumerate(onehot)}\n",
    "voc_char_features.update(onehot_features)\n",
    "\n",
    "extra_features = {x:i+len(voc_char_features) \n",
    "                  for i,x in enumerate([x for x in all_features if x not in ['tweet_text', 'tweet_hashtag'] + numeric_cols])}\n",
    "voc_char_features.update(extra_features)\n",
    "\n",
    "voc_index_features = {y:x for x,y in voc_char_features.items()}\n",
    "# Coefficientes\n",
    "coefs_features = grid_features.best_estimator_.named_steps['clf'].coef_[0]\n",
    "plot_coefficients(coefs_features, voc_index_features)"
   ]
  },
  {
   "cell_type": "code",
   "execution_count": null,
   "metadata": {},
   "outputs": [],
   "source": []
  }
 ],
 "metadata": {
  "kernelspec": {
   "display_name": "adaCourse",
   "language": "python",
   "name": "jupyterkern"
  },
  "language_info": {
   "codemirror_mode": {
    "name": "ipython",
    "version": 3
   },
   "file_extension": ".py",
   "mimetype": "text/x-python",
   "name": "python",
   "nbconvert_exporter": "python",
   "pygments_lexer": "ipython3",
   "version": "3.6.0"
  }
 },
 "nbformat": 4,
 "nbformat_minor": 2
}
